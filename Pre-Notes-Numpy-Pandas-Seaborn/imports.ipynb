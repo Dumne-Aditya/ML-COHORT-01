{
 "cells": [
  {
   "cell_type": "code",
   "execution_count": null,
   "id": "64f03e2c",
   "metadata": {},
   "outputs": [],
   "source": [
    "2024\n",
    "-------\n",
    "a - 80 - 7  - xyz - 7\n",
    "b - 90 - 7.5 - uhb - 8\n",
    "c - 65\n",
    ".\n",
    ".\n",
    ".\n",
    "\n",
    "2025\n",
    "-------\n",
    "6 - xyz - 7  --> "
   ]
  },
  {
   "cell_type": "markdown",
   "id": "896423e9",
   "metadata": {},
   "source": [
    "### Vertocity ML Classes"
   ]
  },
  {
   "cell_type": "markdown",
   "id": "e7f7d5a2",
   "metadata": {},
   "source": [
    "# 📌 Important Python Imports  \n",
    "### *Created by Udaya* 🚀 "
   ]
  },
  {
   "cell_type": "markdown",
   "id": "5fdac975-464e-466e-af7f-7971e5b7dcc4",
   "metadata": {},
   "source": [
    "---\n",
    "\n",
    "## 🔥 Built-in Modules  \n",
    "\n",
    "| Module | Usage | Example |\n",
    "|--------|-------|---------|\n",
    "| `math` | Advanced mathematical operations | `import math; print(math.sqrt(16))` → `4.0` |\n",
    "| `random` | Generate random numbers | `import random; print(random.randint(1, 10))` |\n",
    "| `datetime` | Work with dates and times | `from datetime import datetime; print(datetime.now())` |\n",
    "| `time` | Work with time-related functions | `import time; time.sleep(2)` (Pauses for 2 seconds) |\n",
    "| `os` | Interact with the operating system | `import os; print(os.getcwd())` |\n",
    "| `sys` | System-specific parameters and functions | `import sys; print(sys.version)` |\n",
    "| `re` | Regular expressions (pattern matching) | `import re; print(re.findall(\"\\d+\", \"abc123\"))` |\n",
    "| `json` | JSON data handling | `import json; print(json.dumps({\"name\": \"Udaya\"}))` |\n",
    "| `csv` | Read and write CSV files | `import csv; open('file.csv', 'r')` |\n",
    "| `shutil` | File and directory operations | `import shutil; shutil.copy('src.txt', 'dest.txt')` |\n",
    "\n",
    "---\n",
    "\n",
    "## 📊 Data Science & Machine Learning Imports  \n",
    "\n",
    "| Module | Usage | Example |\n",
    "|--------|-------|---------|\n",
    "| `numpy` | Numerical computations | `import numpy as np; arr = np.array([1, 2, 3])` |\n",
    "| `pandas` | Data manipulation & analysis | `import pandas as pd; df = pd.DataFrame({\"A\": [1, 2]})` |\n",
    "| `matplotlib.pyplot` | Data visualization | `import matplotlib.pyplot as plt; plt.plot([1,2,3])` |\n",
    "| `seaborn` | Statistical data visualization | `import seaborn as sns; sns.histplot([1,2,3,3])` |\n",
    "| `sklearn` | Machine learning algorithms | `from sklearn.linear_model import LinearRegression` |\n",
    "| `tensorflow` | Deep learning framework | `import tensorflow as tf; print(tf.__version__)` |\n",
    "| `torch` | PyTorch for deep learning | `import torch; print(torch.__version__)` |\n",
    "\n",
    "---\n",
    "\n",
    "## 🌐 Web Scraping & API Requests  \n",
    "\n",
    "| Module | Usage | Example |\n",
    "|--------|-------|---------|\n",
    "| `requests` | Make HTTP requests | `import requests; print(requests.get(\"https://api.github.com\"))` |\n",
    "| `beautifulsoup4` | Parse HTML & XML data | `from bs4 import BeautifulSoup; soup = BeautifulSoup('<p>Hello</p>')` |\n",
    "| `selenium` | Automate web browser | `from selenium import webdriver; driver = webdriver.Chrome()` |\n",
    "\n",
    "---\n",
    "\n",
    "## 🗄️ Database & File Handling  \n",
    "\n",
    "| Module | Usage | Example |\n",
    "|--------|-------|---------|\n",
    "| `sqlite3` | Work with SQLite databases | `import sqlite3; conn = sqlite3.connect('data.db')` |\n",
    "| `sqlalchemy` | SQL database handling | `from sqlalchemy import create_engine` |\n",
    "| `xml.etree.ElementTree` | Parse XML data | `import xml.etree.ElementTree as ET` |\n",
    "\n",
    "---\n",
    "\n",
    "## ⚡ Performance & Multiprocessing  \n",
    "\n",
    "| Module | Usage | Example |\n",
    "|--------|-------|---------|\n",
    "| `multiprocessing` | Run multiple processes | `from multiprocessing import Process` |\n",
    "| `threading` | Run threads for parallel execution | `import threading; thread = threading.Thread()` |\n",
    "| `cProfile` | Profile code performance | `import cProfile; cProfile.run(\"sum(range(1000))\")` |\n",
    "\n",
    "---\n",
    "\n",
    "## 🛠️ Utility Modules  \n",
    "\n",
    "| Module | Usage | Example |\n",
    "|--------|-------|---------|\n",
    "| `argparse` | Parse command-line arguments | `import argparse; parser = argparse.ArgumentParser()` |\n",
    "| `logging` | Logging and debugging | `import logging; logging.warning(\"Warning!\")` |\n",
    "| `uuid` | Generate unique IDs | `import uuid; print(uuid.uuid4())` |\n",
    "| `hashlib` | Hashing and encryption | `import hashlib; print(hashlib.md5(b\"Hello\").hexdigest())` |\n",
    "\n",
    "---\n",
    "\n",
    "This **covers the most important Python imports** 🚀  \n"
   ]
  },
  {
   "cell_type": "code",
   "execution_count": 3,
   "id": "04b061b7",
   "metadata": {},
   "outputs": [],
   "source": [
    "import pandas as pd"
   ]
  },
  {
   "cell_type": "code",
   "execution_count": 4,
   "id": "784da12c-0d31-4e2f-ad5c-a602a0857741",
   "metadata": {},
   "outputs": [],
   "source": [
    "import numpy as np"
   ]
  },
  {
   "cell_type": "code",
   "execution_count": 5,
   "id": "3c86bd22",
   "metadata": {},
   "outputs": [],
   "source": [
    "import matplotlib.pyplot as plt"
   ]
  },
  {
   "cell_type": "code",
   "execution_count": 6,
   "id": "74d9221e",
   "metadata": {},
   "outputs": [],
   "source": [
    "import seaborn as sns"
   ]
  },
  {
   "cell_type": "code",
   "execution_count": null,
   "id": "20c67604",
   "metadata": {},
   "outputs": [],
   "source": [
    "library --> subject --> author --> book\n",
    "python --> from ---> import pd ---> read_csv"
   ]
  },
  {
   "cell_type": "code",
   "execution_count": 7,
   "id": "6af49c60",
   "metadata": {},
   "outputs": [],
   "source": [
    "from sklearn.linear_model import LinearRegression"
   ]
  },
  {
   "cell_type": "code",
   "execution_count": 8,
   "id": "2b5bbfde",
   "metadata": {},
   "outputs": [],
   "source": [
    "import tensorflow as tf"
   ]
  }
 ],
 "metadata": {
  "kernelspec": {
   "display_name": "Python 3 (ipykernel)",
   "language": "python",
   "name": "python3"
  },
  "language_info": {
   "codemirror_mode": {
    "name": "ipython",
    "version": 3
   },
   "file_extension": ".py",
   "mimetype": "text/x-python",
   "name": "python",
   "nbconvert_exporter": "python",
   "pygments_lexer": "ipython3",
   "version": "3.11.5"
  }
 },
 "nbformat": 4,
 "nbformat_minor": 5
}
