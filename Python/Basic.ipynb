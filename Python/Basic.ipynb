{
  "cells": [
    {
      "cell_type": "code",
      "execution_count": null,
      "id": "dfdfcb78",
      "metadata": {
        "id": "dfdfcb78"
      },
      "outputs": [],
      "source": []
    },
    {
      "cell_type": "code",
      "execution_count": null,
      "id": "c01793a8-e053-42f5-bcb7-1687c11c2da5",
      "metadata": {
        "id": "c01793a8-e053-42f5-bcb7-1687c11c2da5"
      },
      "outputs": [],
      "source": [
        "Guido Van Rossum ---> 1991 Netherland"
      ]
    },
    {
      "cell_type": "code",
      "execution_count": null,
      "id": "219245d0",
      "metadata": {
        "id": "219245d0"
      },
      "outputs": [],
      "source": [
        "Version --> Python 3.13.2"
      ]
    },
    {
      "cell_type": "markdown",
      "id": "10c1fe0d",
      "metadata": {
        "id": "10c1fe0d"
      },
      "source": [
        "## Variable"
      ]
    },
    {
      "cell_type": "code",
      "execution_count": null,
      "id": "a77c2f12",
      "metadata": {
        "id": "a77c2f12"
      },
      "outputs": [],
      "source": [
        "var1=100\n",
        "\n",
        "a = \"srikant\"\n",
        "\n",
        "b = 20"
      ]
    },
    {
      "cell_type": "code",
      "execution_count": null,
      "id": "62f35fcc",
      "metadata": {
        "id": "62f35fcc",
        "outputId": "36236ab2-a451-4911-83fa-79cd609e92c8"
      },
      "outputs": [
        {
          "name": "stdout",
          "output_type": "stream",
          "text": [
            "100\n"
          ]
        }
      ],
      "source": [
        "print(var1)"
      ]
    },
    {
      "cell_type": "code",
      "execution_count": null,
      "id": "75e20688",
      "metadata": {
        "id": "75e20688",
        "outputId": "5f9ac992-4dc1-41bf-d3e3-530af80180a2"
      },
      "outputs": [
        {
          "data": {
            "text/plain": [
              "100"
            ]
          },
          "execution_count": 6,
          "metadata": {},
          "output_type": "execute_result"
        }
      ],
      "source": [
        "var1"
      ]
    },
    {
      "cell_type": "code",
      "execution_count": null,
      "id": "178fe726",
      "metadata": {
        "id": "178fe726",
        "outputId": "5e731c98-8949-49f6-d397-d24fd2f5e1f2"
      },
      "outputs": [
        {
          "data": {
            "text/plain": [
              "'srikant'"
            ]
          },
          "execution_count": 7,
          "metadata": {},
          "output_type": "execute_result"
        }
      ],
      "source": [
        "a"
      ]
    },
    {
      "cell_type": "code",
      "execution_count": null,
      "id": "e52e1be0",
      "metadata": {
        "id": "e52e1be0",
        "outputId": "738fb38d-f0eb-4076-b0c2-777f5f83672b"
      },
      "outputs": [
        {
          "data": {
            "text/plain": [
              "20"
            ]
          },
          "execution_count": 9,
          "metadata": {},
          "output_type": "execute_result"
        }
      ],
      "source": [
        "b"
      ]
    },
    {
      "cell_type": "code",
      "execution_count": null,
      "id": "8d2c1160",
      "metadata": {
        "id": "8d2c1160",
        "outputId": "0a2123dd-19a5-4a6b-8150-29b83bb55ac4"
      },
      "outputs": [
        {
          "name": "stdout",
          "output_type": "stream",
          "text": [
            "srikant\n"
          ]
        }
      ],
      "source": [
        "print(a)"
      ]
    },
    {
      "cell_type": "code",
      "execution_count": null,
      "id": "ab4a305a",
      "metadata": {
        "id": "ab4a305a"
      },
      "outputs": [],
      "source": []
    },
    {
      "cell_type": "code",
      "execution_count": null,
      "id": "5ae67e0d",
      "metadata": {
        "id": "5ae67e0d",
        "outputId": "6e942902-f293-4ba7-b5ea-79f3f56bfd2e"
      },
      "outputs": [
        {
          "data": {
            "text/plain": [
              "100"
            ]
          },
          "execution_count": 10,
          "metadata": {},
          "output_type": "execute_result"
        }
      ],
      "source": [
        "var1 = 100 # the value of var is 100\n",
        "\n",
        "a = \"srikant\"\n",
        "\n",
        "var1"
      ]
    },
    {
      "cell_type": "code",
      "execution_count": null,
      "id": "1bf5b683",
      "metadata": {
        "id": "1bf5b683",
        "outputId": "42611310-f0db-473f-fe16-87dad056f3d7"
      },
      "outputs": [
        {
          "data": {
            "text/plain": [
              "80"
            ]
          },
          "execution_count": 11,
          "metadata": {},
          "output_type": "execute_result"
        }
      ],
      "source": [
        "a = 80\n",
        "# value of a is 80\n",
        "a"
      ]
    },
    {
      "cell_type": "markdown",
      "id": "c20f32cf",
      "metadata": {
        "id": "c20f32cf"
      },
      "source": [
        "## Comments"
      ]
    },
    {
      "cell_type": "code",
      "execution_count": null,
      "id": "330652f5",
      "metadata": {
        "id": "330652f5"
      },
      "outputs": [],
      "source": [
        "single line comment"
      ]
    },
    {
      "cell_type": "code",
      "execution_count": null,
      "id": "4ba9c696",
      "metadata": {
        "id": "4ba9c696"
      },
      "outputs": [],
      "source": [
        "# value of a is 80"
      ]
    },
    {
      "cell_type": "code",
      "execution_count": null,
      "id": "20a3483e",
      "metadata": {
        "id": "20a3483e"
      },
      "outputs": [],
      "source": [
        "# bharghavi is a good developer\n",
        "# srikanth is a good guy\n",
        "# Arpana is good at python"
      ]
    },
    {
      "cell_type": "code",
      "execution_count": null,
      "id": "f6bbff6b",
      "metadata": {
        "id": "f6bbff6b"
      },
      "outputs": [],
      "source": [
        "multiline comment"
      ]
    },
    {
      "cell_type": "code",
      "execution_count": null,
      "id": "a31cd865",
      "metadata": {
        "id": "a31cd865"
      },
      "outputs": [],
      "source": [
        "'''\n",
        "bharghavi is a good developer\n",
        "srikanth is a good guy\n",
        "Arpana is good at python\n",
        "'''"
      ]
    },
    {
      "cell_type": "markdown",
      "id": "eebd7d40",
      "metadata": {
        "id": "eebd7d40"
      },
      "source": [
        "## data type"
      ]
    },
    {
      "cell_type": "code",
      "execution_count": null,
      "id": "2cdeef23",
      "metadata": {
        "id": "2cdeef23"
      },
      "outputs": [],
      "source": [
        "a = 10\n",
        "b = 1.5\n",
        "c = \"udaya\""
      ]
    },
    {
      "cell_type": "code",
      "execution_count": null,
      "id": "e674bc82",
      "metadata": {
        "id": "e674bc82",
        "outputId": "fbeec109-7b86-486e-d208-465086ef2c48"
      },
      "outputs": [
        {
          "data": {
            "text/plain": [
              "int"
            ]
          },
          "execution_count": 17,
          "metadata": {},
          "output_type": "execute_result"
        }
      ],
      "source": [
        "type(a)"
      ]
    },
    {
      "cell_type": "code",
      "execution_count": null,
      "id": "cf94f500",
      "metadata": {
        "id": "cf94f500",
        "outputId": "fffefc86-85f8-490f-800b-99fb47070c88"
      },
      "outputs": [
        {
          "data": {
            "text/plain": [
              "float"
            ]
          },
          "execution_count": 18,
          "metadata": {},
          "output_type": "execute_result"
        }
      ],
      "source": [
        "type(b)"
      ]
    },
    {
      "cell_type": "code",
      "execution_count": null,
      "id": "657d59ec",
      "metadata": {
        "id": "657d59ec",
        "outputId": "a1e08807-0729-4a52-bff5-0b0f7328cce1"
      },
      "outputs": [
        {
          "data": {
            "text/plain": [
              "str"
            ]
          },
          "execution_count": 19,
          "metadata": {},
          "output_type": "execute_result"
        }
      ],
      "source": [
        "type(c)"
      ]
    },
    {
      "cell_type": "code",
      "execution_count": null,
      "id": "334cf1b3",
      "metadata": {
        "id": "334cf1b3"
      },
      "outputs": [],
      "source": [
        "Types of Data->\n",
        "\n",
        "Numeric type: int, float, complex\n",
        "Text Type: string\n",
        "Boolean type: True/ false (bool)\n",
        "Binary type: Bytes\n",
        "Sequence type: list, tuple, range\n",
        "mapping type: Dict\n",
        "set type: set\n",
        "None type: None"
      ]
    },
    {
      "cell_type": "code",
      "execution_count": null,
      "id": "649a7fdb",
      "metadata": {
        "id": "649a7fdb"
      },
      "outputs": [],
      "source": [
        "complex number ( real + imaginary) example (5+2j)"
      ]
    },
    {
      "cell_type": "code",
      "execution_count": null,
      "id": "d3ae736e",
      "metadata": {
        "id": "d3ae736e",
        "outputId": "c949ab20-0b6e-429b-da47-7e9acb3a9cae"
      },
      "outputs": [
        {
          "data": {
            "text/plain": [
              "21"
            ]
          },
          "execution_count": 21,
          "metadata": {},
          "output_type": "execute_result"
        }
      ],
      "source": [
        "a = 5+2j\n",
        "a"
      ]
    },
    {
      "cell_type": "code",
      "execution_count": null,
      "id": "a147c7d2",
      "metadata": {
        "id": "a147c7d2",
        "outputId": "70474818-8164-4106-f03a-54513376a45b"
      },
      "outputs": [
        {
          "data": {
            "text/plain": [
              "str"
            ]
          },
          "execution_count": 24,
          "metadata": {},
          "output_type": "execute_result"
        }
      ],
      "source": [
        "a = \"uday\"\n",
        "type(a)"
      ]
    },
    {
      "cell_type": "markdown",
      "id": "1ed12541",
      "metadata": {
        "id": "1ed12541"
      },
      "source": [
        "## Type casting"
      ]
    },
    {
      "cell_type": "code",
      "execution_count": null,
      "id": "970fae67",
      "metadata": {
        "id": "970fae67"
      },
      "outputs": [],
      "source": [
        "## implicit"
      ]
    },
    {
      "cell_type": "code",
      "execution_count": null,
      "id": "844756c7",
      "metadata": {
        "id": "844756c7",
        "outputId": "a6ca637e-e3af-4ea4-bfdf-b861956896a4"
      },
      "outputs": [
        {
          "data": {
            "text/plain": [
              "int"
            ]
          },
          "execution_count": 27,
          "metadata": {},
          "output_type": "execute_result"
        }
      ],
      "source": [
        "a = 10\n",
        "type(a)"
      ]
    },
    {
      "cell_type": "code",
      "execution_count": null,
      "id": "28293ca0",
      "metadata": {
        "id": "28293ca0"
      },
      "outputs": [],
      "source": [
        "### explicit"
      ]
    },
    {
      "cell_type": "code",
      "execution_count": null,
      "id": "d8ceb06e",
      "metadata": {
        "id": "d8ceb06e"
      },
      "outputs": [],
      "source": [
        "a = 10\n",
        "\n",
        "a = float(a)"
      ]
    },
    {
      "cell_type": "code",
      "execution_count": null,
      "id": "2db303f7",
      "metadata": {
        "id": "2db303f7",
        "outputId": "d7ee614f-888e-4884-d120-f403f9cbb9fa"
      },
      "outputs": [
        {
          "data": {
            "text/plain": [
              "float"
            ]
          },
          "execution_count": 32,
          "metadata": {},
          "output_type": "execute_result"
        }
      ],
      "source": [
        "type(a)"
      ]
    },
    {
      "cell_type": "code",
      "execution_count": null,
      "id": "2f5bbaf0",
      "metadata": {
        "id": "2f5bbaf0",
        "outputId": "e0458eab-83ee-4d20-a8d8-1f8863b3651a"
      },
      "outputs": [
        {
          "data": {
            "text/plain": [
              "float"
            ]
          },
          "execution_count": 33,
          "metadata": {},
          "output_type": "execute_result"
        }
      ],
      "source": [
        "a = 10.9\n",
        "type(a)"
      ]
    },
    {
      "cell_type": "code",
      "execution_count": null,
      "id": "e62d5870",
      "metadata": {
        "id": "e62d5870",
        "outputId": "ec629691-7d78-4379-b6df-f91580c53ab5"
      },
      "outputs": [
        {
          "data": {
            "text/plain": [
              "int"
            ]
          },
          "execution_count": 34,
          "metadata": {},
          "output_type": "execute_result"
        }
      ],
      "source": [
        "a = int(a)\n",
        "type(a)"
      ]
    },
    {
      "cell_type": "code",
      "execution_count": null,
      "id": "f8c81e6d",
      "metadata": {
        "id": "f8c81e6d",
        "outputId": "09547d7a-0ebd-493f-f6f5-3247424edf3c"
      },
      "outputs": [
        {
          "data": {
            "text/plain": [
              "10"
            ]
          },
          "execution_count": 35,
          "metadata": {},
          "output_type": "execute_result"
        }
      ],
      "source": [
        "a"
      ]
    },
    {
      "cell_type": "code",
      "execution_count": null,
      "id": "f7744671",
      "metadata": {
        "id": "f7744671",
        "outputId": "7731d0fc-a037-48d6-d573-f51f5fb81101"
      },
      "outputs": [
        {
          "data": {
            "text/plain": [
              "str"
            ]
          },
          "execution_count": 36,
          "metadata": {},
          "output_type": "execute_result"
        }
      ],
      "source": [
        "a = \"udaya\"\n",
        "type(a)"
      ]
    },
    {
      "cell_type": "code",
      "execution_count": null,
      "id": "0b850a65",
      "metadata": {
        "id": "0b850a65",
        "outputId": "e35f6ac4-da20-4798-aaf1-5ebe473bb810"
      },
      "outputs": [
        {
          "ename": "ValueError",
          "evalue": "invalid literal for int() with base 10: 'udaya'",
          "output_type": "error",
          "traceback": [
            "\u001b[1;31m---------------------------------------------------------------------------\u001b[0m",
            "\u001b[1;31mValueError\u001b[0m                                Traceback (most recent call last)",
            "Cell \u001b[1;32mIn[37], line 1\u001b[0m\n\u001b[1;32m----> 1\u001b[0m a \u001b[38;5;241m=\u001b[39m \u001b[38;5;28mint\u001b[39m(a)\n\u001b[0;32m      2\u001b[0m a\n",
            "\u001b[1;31mValueError\u001b[0m: invalid literal for int() with base 10: 'udaya'"
          ]
        }
      ],
      "source": [
        "a = int(a)\n",
        "a"
      ]
    },
    {
      "cell_type": "code",
      "execution_count": null,
      "id": "e18c70fe",
      "metadata": {
        "id": "e18c70fe",
        "outputId": "28e98c3a-4b5d-4717-a480-3ac9aaf8f783"
      },
      "outputs": [
        {
          "data": {
            "text/plain": [
              "str"
            ]
          },
          "execution_count": 43,
          "metadata": {},
          "output_type": "execute_result"
        }
      ],
      "source": [
        "a = \"10\"\n",
        "type(a)"
      ]
    },
    {
      "cell_type": "code",
      "execution_count": null,
      "id": "ee9cdda4",
      "metadata": {
        "id": "ee9cdda4",
        "outputId": "acdaf431-4f72-4b5e-b05d-af5a1b19aa40"
      },
      "outputs": [
        {
          "data": {
            "text/plain": [
              "10"
            ]
          },
          "execution_count": 44,
          "metadata": {},
          "output_type": "execute_result"
        }
      ],
      "source": [
        "a = int(a)\n",
        "a"
      ]
    },
    {
      "cell_type": "code",
      "execution_count": null,
      "id": "80e7d18d",
      "metadata": {
        "id": "80e7d18d",
        "outputId": "9ad3b8b2-458b-42c5-b2b2-6225a2f8e462"
      },
      "outputs": [
        {
          "data": {
            "text/plain": [
              "int"
            ]
          },
          "execution_count": 45,
          "metadata": {},
          "output_type": "execute_result"
        }
      ],
      "source": [
        "type(a)"
      ]
    },
    {
      "cell_type": "code",
      "execution_count": null,
      "id": "c0a8060b",
      "metadata": {
        "id": "c0a8060b",
        "outputId": "b0aeadd1-961b-4ab5-96aa-696944e7dc88"
      },
      "outputs": [
        {
          "ename": "NameError",
          "evalue": "name 'udaya' is not defined",
          "output_type": "error",
          "traceback": [
            "\u001b[1;31m---------------------------------------------------------------------------\u001b[0m",
            "\u001b[1;31mNameError\u001b[0m                                 Traceback (most recent call last)",
            "Cell \u001b[1;32mIn[46], line 1\u001b[0m\n\u001b[1;32m----> 1\u001b[0m a \u001b[38;5;241m=\u001b[39m udaya\n\u001b[0;32m      2\u001b[0m a\n",
            "\u001b[1;31mNameError\u001b[0m: name 'udaya' is not defined"
          ]
        }
      ],
      "source": [
        "a = udaya\n",
        "a"
      ]
    },
    {
      "cell_type": "code",
      "execution_count": null,
      "id": "9eaccf0f",
      "metadata": {
        "id": "9eaccf0f",
        "outputId": "ef07517c-d37c-4a4b-a800-ec0780140a15"
      },
      "outputs": [
        {
          "ename": "SyntaxError",
          "evalue": "leading zeros in decimal integer literals are not permitted; use an 0o prefix for octal integers (3171867050.py, line 1)",
          "output_type": "error",
          "traceback": [
            "\u001b[1;36m  Cell \u001b[1;32mIn[53], line 1\u001b[1;36m\u001b[0m\n\u001b[1;33m    a = 0102345670890\u001b[0m\n\u001b[1;37m        ^\u001b[0m\n\u001b[1;31mSyntaxError\u001b[0m\u001b[1;31m:\u001b[0m leading zeros in decimal integer literals are not permitted; use an 0o prefix for octal integers\n"
          ]
        }
      ],
      "source": [
        "a = 0102345670890\n",
        "type(a)"
      ]
    },
    {
      "cell_type": "code",
      "execution_count": null,
      "id": "f1c8159c",
      "metadata": {
        "id": "f1c8159c",
        "outputId": "2659e0a5-e1d0-46eb-a30d-fa2c594195cb"
      },
      "outputs": [
        {
          "ename": "SyntaxError",
          "evalue": "leading zeros in decimal integer literals are not permitted; use an 0o prefix for octal integers (258917548.py, line 1)",
          "output_type": "error",
          "traceback": [
            "\u001b[1;36m  Cell \u001b[1;32mIn[50], line 1\u001b[1;36m\u001b[0m\n\u001b[1;33m    type(01)\u001b[0m\n\u001b[1;37m         ^\u001b[0m\n\u001b[1;31mSyntaxError\u001b[0m\u001b[1;31m:\u001b[0m leading zeros in decimal integer literals are not permitted; use an 0o prefix for octal integers\n"
          ]
        }
      ],
      "source": [
        "type(01)"
      ]
    },
    {
      "cell_type": "code",
      "execution_count": null,
      "id": "5fd4afb2",
      "metadata": {
        "id": "5fd4afb2"
      },
      "outputs": [],
      "source": []
    },
    {
      "cell_type": "code",
      "execution_count": null,
      "id": "3d4c58ba",
      "metadata": {
        "id": "3d4c58ba"
      },
      "outputs": [],
      "source": []
    },
    {
      "cell_type": "code",
      "execution_count": null,
      "id": "4b13a18d",
      "metadata": {
        "id": "4b13a18d",
        "outputId": "b6a6e556-348c-4cc6-dbba-a39c1808a2d9"
      },
      "outputs": [
        {
          "data": {
            "text/plain": [
              "str"
            ]
          },
          "execution_count": 58,
          "metadata": {},
          "output_type": "execute_result"
        }
      ],
      "source": [
        "a = '01010'\n",
        "type(a)"
      ]
    },
    {
      "cell_type": "code",
      "execution_count": null,
      "id": "b8df468c",
      "metadata": {
        "id": "b8df468c"
      },
      "outputs": [],
      "source": [
        "alpha ---> a,b,bnnn,kkk\n",
        "numeric ---> 1,2,3,44,555,70.9\n",
        "alphanumeric ---> a12, b34, 99u\n",
        "special char ---> &, $, @"
      ]
    },
    {
      "cell_type": "code",
      "execution_count": null,
      "id": "39496988",
      "metadata": {
        "id": "39496988",
        "outputId": "dedbae33-9fd8-4482-86e4-28a064833b90"
      },
      "outputs": [
        {
          "data": {
            "text/plain": [
              "10"
            ]
          },
          "execution_count": 62,
          "metadata": {},
          "output_type": "execute_result"
        }
      ],
      "source": [
        "_2 = 10\n",
        "_2"
      ]
    },
    {
      "cell_type": "code",
      "execution_count": null,
      "id": "08308a0b",
      "metadata": {
        "id": "08308a0b"
      },
      "outputs": [],
      "source": [
        "## keyword"
      ]
    },
    {
      "cell_type": "code",
      "execution_count": null,
      "id": "56d32eeb",
      "metadata": {
        "id": "56d32eeb"
      },
      "outputs": [],
      "source": []
    },
    {
      "cell_type": "code",
      "execution_count": null,
      "id": "9fb9d140",
      "metadata": {
        "id": "9fb9d140"
      },
      "outputs": [],
      "source": []
    },
    {
      "cell_type": "code",
      "execution_count": null,
      "id": "fa1841e9",
      "metadata": {
        "id": "fa1841e9"
      },
      "outputs": [],
      "source": []
    },
    {
      "cell_type": "code",
      "execution_count": null,
      "id": "ae0a7254",
      "metadata": {
        "id": "ae0a7254"
      },
      "outputs": [],
      "source": []
    },
    {
      "cell_type": "code",
      "execution_count": null,
      "id": "da7ad01f",
      "metadata": {
        "id": "da7ad01f"
      },
      "outputs": [],
      "source": []
    },
    {
      "cell_type": "code",
      "execution_count": null,
      "id": "5d1593bf-ee6e-44c0-a468-2bf863c4d530",
      "metadata": {
        "id": "5d1593bf-ee6e-44c0-a468-2bf863c4d530"
      },
      "outputs": [],
      "source": []
    }
  ],
  "metadata": {
    "kernelspec": {
      "display_name": "Python 3 (ipykernel)",
      "language": "python",
      "name": "python3"
    },
    "language_info": {
      "codemirror_mode": {
        "name": "ipython",
        "version": 3
      },
      "file_extension": ".py",
      "mimetype": "text/x-python",
      "name": "python",
      "nbconvert_exporter": "python",
      "pygments_lexer": "ipython3",
      "version": "3.11.5"
    },
    "colab": {
      "provenance": []
    }
  },
  "nbformat": 4,
  "nbformat_minor": 5
}