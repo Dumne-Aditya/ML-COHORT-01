{
 "cells": [
  {
   "cell_type": "markdown",
   "id": "f41bab75-b16c-4cd4-aace-a2d66b119252",
   "metadata": {},
   "source": [
    "# List, Dictionary, Tuple, Set - Notes Below  \n",
    "### *Created by Udaya* 🚀  "
   ]
  },
  {
   "cell_type": "markdown",
   "id": "d3c8d0f4-32b6-4eb7-8338-db3ef5862da6",
   "metadata": {},
   "source": [
    "# 📌 Python List - Quick Notes\n",
    "\n",
    "| Feature            | Description |\n",
    "|--------------------|-------------|\n",
    "| **Definition**    | A list is an ordered, mutable collection of elements enclosed in square brackets `[]`. |\n",
    "| **Syntax**        | `my_list = [1, 2, 3, 'apple', 4.5]` |\n",
    "| **Heterogeneous** | A list can store different data types (int, float, string, etc.). |\n",
    "| **Indexing**      | Lists support positive and negative indexing (`my_list[0]`, `my_list[-1]`). |\n",
    "| **Slicing**       | Extract sublists using `my_list[start:end:step]`. |\n",
    "| **Mutable**       | Lists allow modification (adding, removing, or changing elements). |\n",
    "| **Methods**       | `append()`, `extend()`, `insert()`, `remove()`, `pop()`, `sort()`, `reverse()`, `count()`, `index()` |\n",
    "| **Iteration**     | Use loops (`for` or `while`) and list comprehensions. |\n",
    "| **Membership**    | Check if an item exists using `in` or `not in`. |\n",
    "| **List Comprehension** | `[x**2 for x in range(5)]` → `[0, 1, 4, 9, 16]` |\n",
    "| **Copying**       | Use `copy()` or slicing (`[:]`) to create a shallow copy. |\n",
    "| **Nested Lists**  | Lists can contain other lists (`matrix = [[1,2,3], [4,5,6]]`). |\n",
    "| **Sorting**       | `my_list.sort()` (modifies in place) or `sorted(my_list)` (returns new list). |\n",
    "| **Reversing**     | `my_list.reverse()` (in-place) or `my_list[::-1]` (returns new reversed list). |\n",
    "\n",
    "---\n"
   ]
  },
  {
   "cell_type": "code",
   "execution_count": 1,
   "id": "c55d5547-1131-4e20-b612-6991ed1f2cee",
   "metadata": {},
   "outputs": [],
   "source": [
    "# 📌 Creating Lists\n",
    "my_list = [1, 2, 3, 'apple', 4.5]\n",
    "empty_list = []\n",
    "nested_list = [[1, 2], [3, 4]]"
   ]
  },
  {
   "cell_type": "code",
   "execution_count": 2,
   "id": "1370ac02-6b44-4117-a328-113b965dccc0",
   "metadata": {},
   "outputs": [
    {
     "name": "stdout",
     "output_type": "stream",
     "text": [
      "1\n",
      "4.5\n",
      "[2, 3, 'apple']\n"
     ]
    }
   ],
   "source": [
    "# 📌 Accessing Elements\n",
    "print(my_list[0])    # First element\n",
    "print(my_list[-1])   # Last element\n",
    "print(my_list[1:4])  # Slicing"
   ]
  },
  {
   "cell_type": "code",
   "execution_count": 3,
   "id": "42d26a5e-1787-4986-94c9-cd9524539548",
   "metadata": {},
   "outputs": [],
   "source": [
    "# 📌 Modifying Lists\n",
    "my_list[1] = 200     # Changing an element\n",
    "my_list.append(100)  # Adding element at end\n",
    "my_list.insert(2, 'banana')  # Insert at index"
   ]
  },
  {
   "cell_type": "code",
   "execution_count": 4,
   "id": "7bc9f71b-1657-4eaf-9c7f-5d9d6018ea5c",
   "metadata": {},
   "outputs": [],
   "source": [
    "# 📌 Removing Elements\n",
    "my_list.remove('apple')  # Removes 'apple'\n",
    "popped = my_list.pop()   # Removes last element\n",
    "del my_list[0]           # Deletes first element\n",
    "my_list.clear()          # Removes all elements"
   ]
  },
  {
   "cell_type": "code",
   "execution_count": 5,
   "id": "6bbdf250-fa5a-407b-bb69-aeed77c8a8d7",
   "metadata": {},
   "outputs": [],
   "source": [
    "# 📌 List Operations\n",
    "my_list = [1, 2, 3] + [4, 5, 6]  # Concatenation\n",
    "repeated_list = [0] * 5  # [0, 0, 0, 0, 0]"
   ]
  },
  {
   "cell_type": "code",
   "execution_count": 6,
   "id": "61c57ff8-6968-44a1-8250-392ef081e08c",
   "metadata": {},
   "outputs": [
    {
     "name": "stdout",
     "output_type": "stream",
     "text": [
      "True\n",
      "1\n",
      "2\n",
      "3\n",
      "4\n",
      "5\n",
      "6\n"
     ]
    }
   ],
   "source": [
    "# 📌 Membership & Iteration\n",
    "print(2 in my_list)   # True if 2 exists\n",
    "for item in my_list:\n",
    "    print(item)"
   ]
  },
  {
   "cell_type": "code",
   "execution_count": 7,
   "id": "561d21c3-a014-4fa4-98a4-8559e732b4f3",
   "metadata": {},
   "outputs": [],
   "source": [
    "# 📌 Sorting & Reversing\n",
    "nums = [5, 2, 9, 1]\n",
    "nums.sort()           # Sorts in place\n",
    "sorted_nums = sorted(nums)  # Returns sorted list\n",
    "nums.reverse()        # Reverse in place"
   ]
  },
  {
   "cell_type": "code",
   "execution_count": 8,
   "id": "c889b476-a376-41f2-bda4-2ceefbebfe5c",
   "metadata": {},
   "outputs": [],
   "source": [
    "# 📌 List Comprehensions\n",
    "squares = [x**2 for x in range(5)]\n",
    "even_nums = [x for x in nums if x % 2 == 0]"
   ]
  },
  {
   "cell_type": "code",
   "execution_count": 9,
   "id": "3e6eb258-2d39-4068-8170-ba65607ab176",
   "metadata": {},
   "outputs": [],
   "source": [
    "# 📌 Copying Lists\n",
    "copy1 = my_list[:]  # Shallow copy\n",
    "copy2 = my_list.copy()"
   ]
  },
  {
   "cell_type": "code",
   "execution_count": 10,
   "id": "a221262b-add5-43cb-a2b1-790dba8d54f3",
   "metadata": {},
   "outputs": [],
   "source": [
    "# 📌 Nested Lists & Flattening\n",
    "nested = [[1, 2], [3, 4]]\n",
    "flat_list = [num for sublist in nested for num in sublist]"
   ]
  },
  {
   "cell_type": "code",
   "execution_count": 11,
   "id": "f0a03fc9-19dd-4826-adf8-15b2f030ec7c",
   "metadata": {},
   "outputs": [],
   "source": [
    "# 📌 Finding Index & Count\n",
    "my_list = [1, 2, 2, 3, 4]\n",
    "index = my_list.index(2)  # First occurrence\n",
    "count = my_list.count(2)  # Count occurrences"
   ]
  },
  {
   "cell_type": "code",
   "execution_count": 12,
   "id": "cd52bea2-54a3-4d15-a5ad-5d0bbd8a51f7",
   "metadata": {},
   "outputs": [
    {
     "name": "stdout",
     "output_type": "stream",
     "text": [
      "0 1\n",
      "1 2\n",
      "2 2\n",
      "3 3\n",
      "4 4\n"
     ]
    }
   ],
   "source": [
    "# 📌 Using enumerate() to get index-value pairs\n",
    "for index, value in enumerate(my_list):\n",
    "    print(index, value)"
   ]
  },
  {
   "cell_type": "code",
   "execution_count": 13,
   "id": "297a9b67-4519-447f-869f-04da6ba13f4a",
   "metadata": {},
   "outputs": [],
   "source": [
    "# 📌 Using zip() to pair elements from multiple lists\n",
    "list1 = ['a', 'b', 'c']\n",
    "list2 = [1, 2, 3]\n",
    "paired = list(zip(list1, list2))"
   ]
  },
  {
   "cell_type": "code",
   "execution_count": 14,
   "id": "5e28143a-dd29-43fe-a3ab-430bac9c48cd",
   "metadata": {},
   "outputs": [],
   "source": [
    "# 📌 Unpacking Lists\n",
    "a, b, *rest = [10, 20, 30, 40]  # a=10, b=20, rest=[30, 40]"
   ]
  },
  {
   "cell_type": "markdown",
   "id": "80a6be64-d1fd-4db5-a714-cedf485869b6",
   "metadata": {},
   "source": [
    "# 📌 Python Set - Quick Notes\n",
    "\n",
    "| Feature          | Description |\n",
    "|-----------------|-------------|\n",
    "| **Definition**  | A set is an unordered, mutable collection of unique elements enclosed in `{}`. |\n",
    "| **Syntax**      | `my_set = {1, 2, 3, 'apple', 4.5}` |\n",
    "| **Uniqueness**  | Sets automatically remove duplicate values. |\n",
    "| **Unordered**   | Sets do not maintain any specific order. |\n",
    "| **Mutable**     | Elements can be added or removed but not modified. |\n",
    "| **Methods**     | `add()`, `remove()`, `discard()`, `pop()`, `union()`, `intersection()`, `difference()`, `issubset()`, `issuperset()` |\n",
    "| **Iteration**   | Can use `for` loops but cannot access elements by index. |\n",
    "| **Membership**  | Use `in` or `not in` to check existence. |\n",
    "| **Set Operations** | Supports union (`|`), intersection (`&`), difference (`-`), symmetric difference (`^`). |\n",
    "\n",
    "---"
   ]
  },
  {
   "cell_type": "code",
   "execution_count": 15,
   "id": "7a2817a9-c29f-422d-bf76-ccac8e11f0ed",
   "metadata": {},
   "outputs": [],
   "source": [
    "# 📌 Creating Sets\n",
    "my_set = {1, 2, 3, 'apple', 4.5}\n",
    "empty_set = set()  # Correct way to create an empty set (not {})\n",
    "duplicate_set = {1, 2, 2, 3}  # Duplicates are automatically removed"
   ]
  },
  {
   "cell_type": "code",
   "execution_count": 16,
   "id": "d1dfa12e-661a-4e9d-b378-1ba43e905986",
   "metadata": {},
   "outputs": [],
   "source": [
    "# 📌 Adding & Removing Elements\n",
    "my_set.add(10)      # Adds an element\n",
    "my_set.update([20, 30])  # Adds multiple elements\n",
    "my_set.remove(3)    # Removes element (Error if not found)\n",
    "my_set.discard(4.5) # Removes element (No error if not found)\n",
    "popped = my_set.pop()  # Removes & returns a random element\n",
    "my_set.clear()      # Removes all elements"
   ]
  },
  {
   "cell_type": "code",
   "execution_count": 17,
   "id": "a7d1a8e8-b579-4e64-a814-f841ee207387",
   "metadata": {},
   "outputs": [],
   "source": [
    "# 📌 Set Operations\n",
    "set1 = {1, 2, 3, 4}\n",
    "set2 = {3, 4, 5, 6}\n",
    "\n",
    "union_set = set1 | set2        # {1, 2, 3, 4, 5, 6}\n",
    "intersection_set = set1 & set2 # {3, 4}\n",
    "difference_set = set1 - set2   # {1, 2}\n",
    "symmetric_diff = set1 ^ set2   # {1, 2, 5, 6}"
   ]
  },
  {
   "cell_type": "code",
   "execution_count": 18,
   "id": "e5001b0d-eeaf-4d3f-bc49-f4f91ba0328b",
   "metadata": {},
   "outputs": [],
   "source": [
    "# 📌 Checking Subset & Superset\n",
    "is_subset = set1.issubset(set2)  # False\n",
    "is_superset = set1.issuperset(set2)  # False"
   ]
  },
  {
   "cell_type": "code",
   "execution_count": 19,
   "id": "f1f36bbf-4ff8-4653-a04d-92d6682526af",
   "metadata": {},
   "outputs": [
    {
     "name": "stdout",
     "output_type": "stream",
     "text": [
      "True\n",
      "True\n"
     ]
    }
   ],
   "source": [
    "# 📌 Membership Testing\n",
    "print(2 in set1)  # True if 2 is in the set\n",
    "print(10 not in set1)  # True if 10 is not in the set"
   ]
  },
  {
   "cell_type": "code",
   "execution_count": 20,
   "id": "e1a07cc8-936c-4d24-90ca-b78178508ed6",
   "metadata": {},
   "outputs": [
    {
     "name": "stdout",
     "output_type": "stream",
     "text": [
      "1\n",
      "2\n",
      "3\n",
      "4\n"
     ]
    }
   ],
   "source": [
    "# 📌 Iterating Over a Set\n",
    "for item in set1:\n",
    "    print(item)"
   ]
  },
  {
   "cell_type": "code",
   "execution_count": 21,
   "id": "65446458-d4fb-43d1-bc59-86a3e32890d6",
   "metadata": {},
   "outputs": [],
   "source": [
    "# 📌 Copying Sets\n",
    "copy1 = set1.copy()"
   ]
  },
  {
   "cell_type": "code",
   "execution_count": 22,
   "id": "171d11fe-2eaf-40e5-964c-e9ebd4e7d8e5",
   "metadata": {},
   "outputs": [],
   "source": [
    "# 📌 Frozen Sets (Immutable Sets)\n",
    "frozen = frozenset([1, 2, 3])\n",
    "# frozen.add(4)  # ❌ ERROR: Frozen sets are immutable"
   ]
  },
  {
   "cell_type": "code",
   "execution_count": 23,
   "id": "f1f81c38-2a88-4330-a347-17db0652a6f3",
   "metadata": {},
   "outputs": [],
   "source": [
    "# 📌 Set Comprehensions\n",
    "squared_set = {x**2 for x in range(5)}  # {0, 1, 4, 9, 16}\n",
    "filtered_set = {x for x in set1 if x % 2 == 0}  # Only even numbers"
   ]
  },
  {
   "cell_type": "code",
   "execution_count": 24,
   "id": "f307ad0f-6991-423d-a09e-99482a31f823",
   "metadata": {},
   "outputs": [],
   "source": [
    "# 📌 Converting Lists/Tuples to Sets (Removing Duplicates)\n",
    "list_with_dupes = [1, 2, 2, 3, 4, 4, 5]\n",
    "unique_set = set(list_with_dupes)  # {1, 2, 3, 4, 5}"
   ]
  },
  {
   "cell_type": "markdown",
   "id": "7478cc48-314b-462b-9d21-6236a753826f",
   "metadata": {},
   "source": [
    "# 📌 Python Dictionary - Quick Notes\n",
    "\n",
    "| Feature          | Description |\n",
    "|-----------------|-------------|\n",
    "| **Definition**  | A dictionary is an unordered collection of key-value pairs enclosed in `{}`. |\n",
    "| **Syntax**      | `my_dict = {'name': 'Alice', 'age': 25, 'city': 'New York'}` |\n",
    "| **Key-Value Pairs** | Each key maps to a specific value. |\n",
    "| **Keys Uniqueness** | Keys must be unique, but values can be duplicated. |\n",
    "| **Mutable**     | Values can be modified, but keys must be immutable. |\n",
    "| **Methods**     | `keys()`, `values()`, `items()`, `get()`, `update()`, `pop()`, `clear()`, `setdefault()` |\n",
    "| **Iteration**   | Use `for key in dict`, `for key, value in dict.items()`. |\n",
    "| **Membership**  | Use `key in dict` to check existence. |\n",
    "| **Nested Dictionary** | A dictionary can contain another dictionary as a value. |\n",
    "\n",
    "---"
   ]
  },
  {
   "cell_type": "code",
   "execution_count": null,
   "id": "d0f5090f",
   "metadata": {},
   "outputs": [],
   "source": [
    "def add(x,y):\n",
    "    print(x+y)\n",
    "    \n",
    "add(2,3)"
   ]
  },
  {
   "cell_type": "code",
   "execution_count": null,
   "id": "2bb39a85",
   "metadata": {},
   "outputs": [],
   "source": [
    "{\n",
    "    key: value\n",
    "}"
   ]
  },
  {
   "cell_type": "code",
   "execution_count": 1,
   "id": "9cd7b4c7",
   "metadata": {},
   "outputs": [
    {
     "data": {
      "text/plain": [
       "{'uday': 24, 'nishil': 23, 'aparna': 20, 'Aditya': 23}"
      ]
     },
     "execution_count": 1,
     "metadata": {},
     "output_type": "execute_result"
    }
   ],
   "source": [
    "a = {\n",
    "    \"uday\" : 24,\n",
    "    \"nishil\": 23,\n",
    "    \"aparna\": 20,\n",
    "    \"Aditya\": 23\n",
    "}\n",
    "a"
   ]
  },
  {
   "cell_type": "code",
   "execution_count": 4,
   "id": "24a3cd79",
   "metadata": {},
   "outputs": [
    {
     "data": {
      "text/plain": [
       "23"
      ]
     },
     "execution_count": 4,
     "metadata": {},
     "output_type": "execute_result"
    }
   ],
   "source": [
    "a['nishil']"
   ]
  },
  {
   "cell_type": "code",
   "execution_count": 5,
   "id": "a16534b7",
   "metadata": {},
   "outputs": [
    {
     "data": {
      "text/plain": [
       "{}"
      ]
     },
     "execution_count": 5,
     "metadata": {},
     "output_type": "execute_result"
    }
   ],
   "source": [
    "empty = {}\n",
    "empty"
   ]
  },
  {
   "cell_type": "code",
   "execution_count": 10,
   "id": "70e1b5a8",
   "metadata": {},
   "outputs": [
    {
     "data": {
      "text/plain": [
       "{'name': {'x': 23, 'y': 24}, 'age': 59}"
      ]
     },
     "execution_count": 10,
     "metadata": {},
     "output_type": "execute_result"
    }
   ],
   "source": [
    "xx = {\n",
    "    \"name\":{\n",
    "        \"x\":23,\n",
    "        \"y\":24\n",
    "    },\n",
    "    \"age\":59\n",
    "}\n",
    "xx"
   ]
  },
  {
   "cell_type": "code",
   "execution_count": 8,
   "id": "286d6684",
   "metadata": {},
   "outputs": [
    {
     "data": {
      "text/plain": [
       "{'x': 23, 'y': 24}"
      ]
     },
     "execution_count": 8,
     "metadata": {},
     "output_type": "execute_result"
    }
   ],
   "source": [
    "xx['name']"
   ]
  },
  {
   "cell_type": "code",
   "execution_count": 11,
   "id": "1c8000a6",
   "metadata": {},
   "outputs": [
    {
     "data": {
      "text/plain": [
       "24"
      ]
     },
     "execution_count": 11,
     "metadata": {},
     "output_type": "execute_result"
    }
   ],
   "source": [
    "x['name']['y']"
   ]
  },
  {
   "cell_type": "code",
   "execution_count": 12,
   "id": "47c5f1e8",
   "metadata": {},
   "outputs": [
    {
     "data": {
      "text/plain": [
       "{'name': {'x': 23, 'y': 24}, 'age': 59}"
      ]
     },
     "execution_count": 12,
     "metadata": {},
     "output_type": "execute_result"
    }
   ],
   "source": [
    "xx"
   ]
  },
  {
   "cell_type": "code",
   "execution_count": 13,
   "id": "204b6f6a",
   "metadata": {},
   "outputs": [
    {
     "data": {
      "text/plain": [
       "{'x': 23, 'y': 24}"
      ]
     },
     "execution_count": 13,
     "metadata": {},
     "output_type": "execute_result"
    }
   ],
   "source": [
    "xx.get('name')"
   ]
  },
  {
   "cell_type": "code",
   "execution_count": 15,
   "id": "6a422d54",
   "metadata": {},
   "outputs": [
    {
     "data": {
      "text/plain": [
       "'not'"
      ]
     },
     "execution_count": 15,
     "metadata": {},
     "output_type": "execute_result"
    }
   ],
   "source": [
    "xx.get('fname','not')"
   ]
  },
  {
   "cell_type": "code",
   "execution_count": 16,
   "id": "a68fb4f2",
   "metadata": {},
   "outputs": [
    {
     "data": {
      "text/plain": [
       "{'x': 23, 'y': 24}"
      ]
     },
     "execution_count": 16,
     "metadata": {},
     "output_type": "execute_result"
    }
   ],
   "source": [
    "xx.get('name','not')"
   ]
  },
  {
   "cell_type": "code",
   "execution_count": null,
   "id": "35d42609",
   "metadata": {},
   "outputs": [],
   "source": []
  },
  {
   "cell_type": "code",
   "execution_count": 25,
   "id": "66e7fe8c-303a-4c56-ad29-e0234a9d65c2",
   "metadata": {},
   "outputs": [],
   "source": [
    "# 📌 Creating Dictionaries\n",
    "my_dict = {'name': 'Alice', 'age': 25, 'city': 'New York'}\n",
    "empty_dict = {}  # Empty dictionary\n",
    "dict_with_dict = {'person': {'name': 'Bob', 'age': 30}}  # Nested dictionary"
   ]
  },
  {
   "cell_type": "code",
   "execution_count": 26,
   "id": "ad6eb9c3-a0af-40ab-8cf6-9964490188c3",
   "metadata": {},
   "outputs": [
    {
     "name": "stdout",
     "output_type": "stream",
     "text": [
      "Alice\n",
      "25\n",
      "Not Found\n"
     ]
    }
   ],
   "source": [
    "# 📌 Accessing Values\n",
    "print(my_dict['name'])  # Output: Alice\n",
    "print(my_dict.get('age'))  # Output: 25 (Avoids KeyError if key is missing)\n",
    "print(my_dict.get('gender', 'Not Found'))  # Default value if key is missing"
   ]
  },
  {
   "cell_type": "code",
   "execution_count": null,
   "id": "62dcf657",
   "metadata": {},
   "outputs": [],
   "source": []
  },
  {
   "cell_type": "code",
   "execution_count": null,
   "id": "70a81eca",
   "metadata": {},
   "outputs": [],
   "source": []
  },
  {
   "cell_type": "code",
   "execution_count": 27,
   "id": "7a6e6ec3-2709-4b31-8718-150dd5cd10fb",
   "metadata": {},
   "outputs": [],
   "source": [
    "# 📌 Adding & Updating Values\n",
    "my_dict['age'] = 26  # Update value\n",
    "my_dict['gender'] = 'Female'  # Add new key-value pair\n",
    "my_dict.update({'country': 'USA', 'age': 27})  # Bulk update"
   ]
  },
  {
   "cell_type": "code",
   "execution_count": 17,
   "id": "97f70789",
   "metadata": {},
   "outputs": [
    {
     "data": {
      "text/plain": [
       "{'name': {'x': 23, 'y': 24}, 'age': 59}"
      ]
     },
     "execution_count": 17,
     "metadata": {},
     "output_type": "execute_result"
    }
   ],
   "source": [
    "xx"
   ]
  },
  {
   "cell_type": "code",
   "execution_count": 18,
   "id": "368172ac",
   "metadata": {},
   "outputs": [],
   "source": [
    "del xx['name']"
   ]
  },
  {
   "cell_type": "code",
   "execution_count": 19,
   "id": "269488f8",
   "metadata": {},
   "outputs": [
    {
     "data": {
      "text/plain": [
       "{'age': 59}"
      ]
     },
     "execution_count": 19,
     "metadata": {},
     "output_type": "execute_result"
    }
   ],
   "source": [
    "xx"
   ]
  },
  {
   "cell_type": "code",
   "execution_count": 28,
   "id": "cbf27ce8-5839-4af6-a7c8-9406e0eb1b7b",
   "metadata": {},
   "outputs": [],
   "source": [
    "# 📌 Removing Key-Value Pairs\n",
    "del my_dict['city']  # Remove 'city' key\n",
    "popped_value = my_dict.pop('age')  # Removes 'age' & returns value\n",
    "last_item = my_dict.popitem()  # Removes and returns last key-value pair\n",
    "my_dict.clear()  # Clears entire dictionary"
   ]
  },
  {
   "cell_type": "code",
   "execution_count": 29,
   "id": "d8737c30-a8bd-4d02-b202-5664a89cbfcd",
   "metadata": {},
   "outputs": [],
   "source": [
    "# 📌 Dictionary Operations\n",
    "keys = my_dict.keys()  # Get all keys\n",
    "values = my_dict.values()  # Get all values\n",
    "items = my_dict.items()  # Get all key-value pairs"
   ]
  },
  {
   "cell_type": "code",
   "execution_count": 20,
   "id": "2576cfbe",
   "metadata": {},
   "outputs": [
    {
     "data": {
      "text/plain": [
       "{'name': {'x': 23, 'y': 24}, 'age': 59}"
      ]
     },
     "execution_count": 20,
     "metadata": {},
     "output_type": "execute_result"
    }
   ],
   "source": [
    "val = {'name': {'x': 23, 'y': 24}, 'age': 59}\n",
    "val"
   ]
  },
  {
   "cell_type": "code",
   "execution_count": 21,
   "id": "a957cc45",
   "metadata": {},
   "outputs": [
    {
     "data": {
      "text/plain": [
       "dict_keys(['name', 'age'])"
      ]
     },
     "execution_count": 21,
     "metadata": {},
     "output_type": "execute_result"
    }
   ],
   "source": [
    "val.keys()"
   ]
  },
  {
   "cell_type": "code",
   "execution_count": 22,
   "id": "11ec92a6",
   "metadata": {},
   "outputs": [
    {
     "data": {
      "text/plain": [
       "dict_values([{'x': 23, 'y': 24}, 59])"
      ]
     },
     "execution_count": 22,
     "metadata": {},
     "output_type": "execute_result"
    }
   ],
   "source": [
    "val.values()"
   ]
  },
  {
   "cell_type": "code",
   "execution_count": 23,
   "id": "f5293b27",
   "metadata": {},
   "outputs": [
    {
     "data": {
      "text/plain": [
       "dict_items([('name', {'x': 23, 'y': 24}), ('age', 59)])"
      ]
     },
     "execution_count": 23,
     "metadata": {},
     "output_type": "execute_result"
    }
   ],
   "source": [
    "val.items()"
   ]
  },
  {
   "cell_type": "code",
   "execution_count": 30,
   "id": "8c736ac7-9667-47f0-a661-455f06d32638",
   "metadata": {},
   "outputs": [],
   "source": [
    "# 📌 Iterating Over a Dictionary\n",
    "for key in my_dict:\n",
    "    print(key, my_dict[key])  # Key and value\n",
    "\n",
    "for key, value in my_dict.items():\n",
    "    print(f\"{key}: {value}\")  # Using unpacking"
   ]
  },
  {
   "cell_type": "code",
   "execution_count": null,
   "id": "7e8b058c",
   "metadata": {},
   "outputs": [],
   "source": []
  },
  {
   "cell_type": "code",
   "execution_count": 31,
   "id": "7f4b9747-ee7f-419a-b9d2-f778d7365455",
   "metadata": {},
   "outputs": [],
   "source": [
    "# 📌 Dictionary Comprehensions\n",
    "squared_dict = {x: x**2 for x in range(1, 6)}  # {1: 1, 2: 4, ..., 5: 25}"
   ]
  },
  {
   "cell_type": "code",
   "execution_count": 32,
   "id": "30aff743-6b8e-4665-8432-543fe42fb776",
   "metadata": {},
   "outputs": [
    {
     "name": "stdout",
     "output_type": "stream",
     "text": [
      "False\n",
      "True\n"
     ]
    }
   ],
   "source": [
    "# 📌 Checking Key Existence\n",
    "print('name' in my_dict)  # True if 'name' exists\n",
    "print('salary' not in my_dict)  # True if 'salary' does not exist"
   ]
  },
  {
   "cell_type": "code",
   "execution_count": 25,
   "id": "cbe440b1",
   "metadata": {},
   "outputs": [
    {
     "data": {
      "text/plain": [
       "{'name': {'x': 23, 'y': 24}, 'age': 59}"
      ]
     },
     "execution_count": 25,
     "metadata": {},
     "output_type": "execute_result"
    }
   ],
   "source": [
    "val"
   ]
  },
  {
   "cell_type": "code",
   "execution_count": 24,
   "id": "9c06fd73",
   "metadata": {},
   "outputs": [
    {
     "data": {
      "text/plain": [
       "True"
      ]
     },
     "execution_count": 24,
     "metadata": {},
     "output_type": "execute_result"
    }
   ],
   "source": [
    "'age' in val"
   ]
  },
  {
   "cell_type": "code",
   "execution_count": 26,
   "id": "c9bc8193",
   "metadata": {},
   "outputs": [
    {
     "data": {
      "text/plain": [
       "False"
      ]
     },
     "execution_count": 26,
     "metadata": {},
     "output_type": "execute_result"
    }
   ],
   "source": [
    "'age' not in val"
   ]
  },
  {
   "cell_type": "code",
   "execution_count": 33,
   "id": "8b97cc67-6041-409e-8865-c403f7ede34b",
   "metadata": {},
   "outputs": [],
   "source": [
    "# 📌 Copying Dictionaries\n",
    "dict_copy = my_dict.copy()  # Shallow copy\n",
    "deep_dict = {'a': {'b': 2}}\n",
    "import copy\n",
    "deep_copy = copy.deepcopy(deep_dict)  # Deep copy (handles nested dicts)"
   ]
  },
  {
   "cell_type": "code",
   "execution_count": 27,
   "id": "5782faf7-7c03-46d5-9817-c5da9beaf084",
   "metadata": {},
   "outputs": [
    {
     "data": {
      "text/plain": [
       "{'a': 1, 'b': 2, 'c': 3, 'd': 4}"
      ]
     },
     "execution_count": 27,
     "metadata": {},
     "output_type": "execute_result"
    }
   ],
   "source": [
    "# 📌 Merging Two Dictionaries (Python 3.9+)\n",
    "dict1 = {'a': 1, 'b': 2}\n",
    "dict2 = {'c': 3, 'd': 4}\n",
    "merged_dict = dict1 | dict2  # {'a': 1, 'b': 2, 'c': 3, 'd': 4}\n",
    "merged_dict"
   ]
  },
  {
   "cell_type": "code",
   "execution_count": null,
   "id": "c52f0858",
   "metadata": {},
   "outputs": [],
   "source": []
  },
  {
   "cell_type": "code",
   "execution_count": null,
   "id": "2b538aa6",
   "metadata": {},
   "outputs": [],
   "source": []
  },
  {
   "cell_type": "code",
   "execution_count": 35,
   "id": "9d10f43b-4acb-4a67-818c-e2e9171fc3ed",
   "metadata": {},
   "outputs": [],
   "source": [
    "# 📌 Using defaultdict (Handles Missing Keys)\n",
    "from collections import defaultdict\n",
    "dd = defaultdict(int)  # Default value is 0\n",
    "dd['missing_key'] += 5  # No KeyError, returns 5"
   ]
  },
  {
   "cell_type": "markdown",
   "id": "dae629dc-f988-43a0-a081-b68decf9a407",
   "metadata": {},
   "source": [
    "# 📌 Python Tuple - Quick Notes\n",
    "\n",
    "| Feature          | Description |\n",
    "|-----------------|-------------|\n",
    "| **Definition**  | A tuple is an ordered, immutable collection of elements enclosed in `()`. |\n",
    "| **Syntax**      | `my_tuple = (1, 2, 3, 'apple', 4.5)` |\n",
    "| **Immutable**   | Elements cannot be modified once created. |\n",
    "| **Ordered**     | Tuples maintain the insertion order. |\n",
    "| **Heterogeneous** | Tuples can store different data types. |\n",
    "| **Indexing**    | Supports positive and negative indexing (`my_tuple[0]`, `my_tuple[-1]`). |\n",
    "| **Slicing**     | Extract sub-tuples using `my_tuple[start:end:step]`. |\n",
    "| **Methods**     | `count()`, `index()` |\n",
    "| **Iteration**   | Can iterate using `for` loops. |\n",
    "| **Tuple Packing & Unpacking** | `a, b, c = (1, 2, 3)` assigns values to variables. |\n",
    "\n",
    "---\n"
   ]
  },
  {
   "cell_type": "code",
   "execution_count": 37,
   "id": "51d212b1-38b5-46a9-b7a9-a52fb0da3a80",
   "metadata": {},
   "outputs": [],
   "source": [
    "# 📌 Creating Tuples\n",
    "empty_tuple = ()  # Empty tuple\n",
    "single_element_tuple = (5,)  # Note the comma for a single-element tuple\n",
    "my_tuple = (1, 2, 3, 'apple', 4.5)\n",
    "nested_tuple = ((1, 2), (3, 4))  # Tuple inside a tuple\n",
    "tuple_from_list = tuple([1, 2, 3])  # Convert list to tuple"
   ]
  },
  {
   "cell_type": "code",
   "execution_count": 38,
   "id": "4fee6039-b4f0-4630-8722-db517faf0f77",
   "metadata": {},
   "outputs": [
    {
     "name": "stdout",
     "output_type": "stream",
     "text": [
      "1\n",
      "4.5\n",
      "(2, 3, 'apple')\n"
     ]
    }
   ],
   "source": [
    "# 📌 Accessing Elements\n",
    "print(my_tuple[0])   # First element\n",
    "print(my_tuple[-1])  # Last element\n",
    "print(my_tuple[1:4]) # Slicing"
   ]
  },
  {
   "cell_type": "code",
   "execution_count": 39,
   "id": "cf88beb4-09f7-4147-ae7f-cc2a42c9d21e",
   "metadata": {},
   "outputs": [],
   "source": [
    "# 📌 Tuple Packing & Unpacking\n",
    "a, b, c = (10, 20, 30)  # Unpacking\n",
    "x, *y, z = (1, 2, 3, 4, 5)  # x=1, y=[2,3,4], z=5\n"
   ]
  },
  {
   "cell_type": "code",
   "execution_count": 40,
   "id": "4213f465-0d7d-49b9-a42e-d634ae9fe428",
   "metadata": {},
   "outputs": [],
   "source": [
    "# 📌 Tuple Concatenation & Repetition\n",
    "new_tuple = my_tuple + (6, 7)  # (1, 2, 3, 'apple', 4.5, 6, 7)\n",
    "repeated_tuple = my_tuple * 2  # (1, 2, 3, 'apple', 4.5, 1, 2, 3, 'apple', 4.5)"
   ]
  },
  {
   "cell_type": "code",
   "execution_count": 41,
   "id": "bcf65c59-ed29-4fcd-b819-acefd29d17ef",
   "metadata": {},
   "outputs": [
    {
     "name": "stdout",
     "output_type": "stream",
     "text": [
      "1\n",
      "3\n"
     ]
    }
   ],
   "source": [
    "# 📌 Tuple Methods\n",
    "print(my_tuple.count(2))  # Count occurrences of 2\n",
    "print(my_tuple.index('apple'))  # Find index of 'apple'"
   ]
  },
  {
   "cell_type": "code",
   "execution_count": 42,
   "id": "ff71070e-7f60-4a35-b1a9-81d442db768b",
   "metadata": {},
   "outputs": [
    {
     "name": "stdout",
     "output_type": "stream",
     "text": [
      "True\n",
      "True\n"
     ]
    }
   ],
   "source": [
    "# 📌 Membership Testing\n",
    "print(3 in my_tuple)   # True if 3 exists in tuple\n",
    "print(100 not in my_tuple)  # True if 100 is not in tuple"
   ]
  },
  {
   "cell_type": "code",
   "execution_count": 43,
   "id": "541bba68-7fe7-4d6e-a073-c9e0a3522226",
   "metadata": {},
   "outputs": [
    {
     "name": "stdout",
     "output_type": "stream",
     "text": [
      "1\n",
      "2\n",
      "3\n",
      "apple\n",
      "4.5\n"
     ]
    }
   ],
   "source": [
    "# 📌 Iterating Over Tuples\n",
    "for item in my_tuple:\n",
    "    print(item)"
   ]
  },
  {
   "cell_type": "code",
   "execution_count": 44,
   "id": "c999eb63-6137-470c-8b59-ce98f3c020bd",
   "metadata": {},
   "outputs": [],
   "source": [
    "# 📌 Using Tuples in Dictionaries\n",
    "tuple_key_dict = {(1, 2): 'point A', (3, 4): 'point B'}  # Tuples as dictionary keys"
   ]
  },
  {
   "cell_type": "code",
   "execution_count": 45,
   "id": "ac82b903-50bb-4a8a-93f6-417d47f05b0d",
   "metadata": {},
   "outputs": [],
   "source": [
    "# 📌 Converting Tuples\n",
    "tuple_to_list = list(my_tuple)  # Convert tuple to list\n",
    "list_to_tuple = tuple([10, 20, 30])  # Convert list to tuple"
   ]
  },
  {
   "cell_type": "code",
   "execution_count": 46,
   "id": "f97405f0-73ea-4853-95e0-956367d2ffe9",
   "metadata": {},
   "outputs": [
    {
     "name": "stdout",
     "output_type": "stream",
     "text": [
      "6\n"
     ]
    }
   ],
   "source": [
    "# 📌 Nested Tuples & Accessing Elements\n",
    "nested_tuple = ((1, 2, 3), (4, 5, 6))\n",
    "print(nested_tuple[1][2])  # Output: 6"
   ]
  },
  {
   "cell_type": "code",
   "execution_count": 47,
   "id": "d60d56cc-3b43-4c19-95bd-6d13b1224e63",
   "metadata": {},
   "outputs": [
    {
     "name": "stdout",
     "output_type": "stream",
     "text": [
      "(10, 20, 30)\n"
     ]
    }
   ],
   "source": [
    "# 📌 Using Tuples in Functions (Returning Multiple Values)\n",
    "def return_multiple():\n",
    "    return 10, 20, 30  # Returns a tuple\n",
    "\n",
    "result = return_multiple()\n",
    "print(result)  # (10, 20, 30)"
   ]
  }
 ],
 "metadata": {
  "kernelspec": {
   "display_name": "Python 3 (ipykernel)",
   "language": "python",
   "name": "python3"
  },
  "language_info": {
   "codemirror_mode": {
    "name": "ipython",
    "version": 3
   },
   "file_extension": ".py",
   "mimetype": "text/x-python",
   "name": "python",
   "nbconvert_exporter": "python",
   "pygments_lexer": "ipython3",
   "version": "3.11.5"
  }
 },
 "nbformat": 4,
 "nbformat_minor": 5
}
