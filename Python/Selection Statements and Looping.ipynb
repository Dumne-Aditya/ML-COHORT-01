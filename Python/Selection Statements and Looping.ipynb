{
 "cells": [
  {
   "cell_type": "markdown",
   "id": "a98c9ea7",
   "metadata": {},
   "source": [
    "# Python Control Flow (Selection Statements and Looping)  \n",
    "### *Created by Udaya* 🚀  "
   ]
  },
  {
   "cell_type": "markdown",
   "id": "839b7d0e-d012-4509-b8db-47be2cd96f27",
   "metadata": {},
   "source": [
    "\n",
    "## 📌 Selection Statements (Conditional Statements)  \n",
    "\n",
    "| Statement | Description | Syntax | Example |\n",
    "|-----------|------------|--------|---------|\n",
    "| `if` | Executes a block of code if a condition is `True` | `if condition:` | ```python if x > 10: print(\"Greater\") ``` |\n",
    "| `if-else` | Executes one block if `True`, another if `False` | `if condition: else:` | ```python if x > 10: print(\"Greater\") else: print(\"Smaller\") ``` |\n",
    "| `if-elif-else` | Checks multiple conditions sequentially | `if condition: elif condition: else:` | ```python if x > 10: print(\"Greater\") elif x == 10: print(\"Equal\") else: print(\"Smaller\") ``` |\n",
    "| Nested `if` | `if` inside another `if` statement | `if condition: if condition:` | ```python if x > 5: if x < 20: print(\"Between 5 and 20\") ``` |\n",
    "| Ternary Operator | Short-hand for `if-else` | `value_if_true if condition else value_if_false` | ```python result = \"Positive\" if x > 0 else \"Negative\" ``` |\n",
    "\n",
    "---\n",
    "\n",
    "## 🔁 Looping Statements in Python  \n",
    "\n",
    "| Loop Type | Description | Syntax | Example |\n",
    "|-----------|------------|--------|---------|\n",
    "| `for` loop | Iterates over a sequence (list, tuple, string, range) | `for var in sequence:` | ```python for i in range(5): print(i) ``` |\n",
    "| `while` loop | Executes as long as a condition is `True` | `while condition:` | ```python x = 5 while x > 0: print(x); x -= 1 ``` |\n",
    "| Nested Loops | Loop inside another loop | `for ... for ...` / `while ... while ...` | ```python for i in range(3): for j in range(2): print(i, j) ``` |\n",
    "| `break` | Exits the loop immediately | `if condition: break` | ```python for i in range(5): if i == 3: break print(i) ``` |\n",
    "| `continue` | Skips the current iteration & moves to next | `if condition: continue` | ```python for i in range(5): if i == 2: continue print(i) ``` |\n",
    "| `pass` | Placeholder for empty loops or conditions | `if condition: pass` | ```python for i in range(5): pass ``` |\n",
    "| `else` with loop | Executes after loop finishes normally (not on `break`) | `for/while ... else:` | ```python for i in range(3): print(i) else: print(\"Loop done\") ``` |\n",
    "\n",
    "---\n",
    "\n",
    "## 🔥 Advanced Looping Techniques  \n",
    "\n",
    "| Technique | Description | Example |\n",
    "|-----------|------------|---------|\n",
    "| Looping with `range()` | Generate numbers dynamically | ```python for i in range(1, 10, 2): print(i) ``` |\n",
    "| Looping over List | Iterate through elements | ```python my_list = [1, 2, 3] for item in my_list: print(item) ``` |\n",
    "| Looping over Dictionary | Iterate keys, values | ```python my_dict = {\"a\": 1, \"b\": 2} for key, value in my_dict.items(): print(key, value) ``` |\n",
    "| Using `enumerate()` | Get index & value | ```python for i, val in enumerate([\"a\", \"b\", \"c\"]): print(i, val) ``` |\n",
    "| Using `zip()` | Iterate multiple lists together | ```python names = [\"Alice\", \"Bob\"] ages = [25, 30] for n, a in zip(names, ages): print(n, a) ``` |\n",
    "| List Comprehension | Create lists in a loop | ```python squares = [x**2 for x in range(5)] ``` |\n",
    "\n",
    "---\n",
    "\n",
    "This **covers everything** related to selection statements and loops in Python 🚀  "
   ]
  },
  {
   "cell_type": "code",
   "execution_count": null,
   "id": "49662e07-c7a6-4624-91ac-be9a08fe7174",
   "metadata": {},
   "outputs": [],
   "source": []
  },
  {
   "cell_type": "code",
   "execution_count": null,
   "id": "c5382ed1",
   "metadata": {},
   "outputs": [],
   "source": [
    "if (condition):\n",
    "    # body for if block\n",
    "else:\n",
    "    # body for else block"
   ]
  },
  {
   "cell_type": "code",
   "execution_count": 3,
   "id": "c83e8ced",
   "metadata": {},
   "outputs": [
    {
     "name": "stdout",
     "output_type": "stream",
     "text": [
      "as 34 is greater so eligible\n"
     ]
    }
   ],
   "source": [
    "age = 34\n",
    "\n",
    "if age > 18:\n",
    "    print(f\"as {age} is greater so eligible\")\n",
    "else:\n",
    "    print(\"Not eligible\")"
   ]
  },
  {
   "cell_type": "code",
   "execution_count": 2,
   "id": "e85c7600",
   "metadata": {},
   "outputs": [
    {
     "data": {
      "text/plain": [
       "False"
      ]
     },
     "execution_count": 2,
     "metadata": {},
     "output_type": "execute_result"
    }
   ],
   "source": [
    "14 > 18"
   ]
  },
  {
   "cell_type": "code",
   "execution_count": 6,
   "id": "779f0707",
   "metadata": {},
   "outputs": [
    {
     "name": "stdout",
     "output_type": "stream",
     "text": [
      "Enter your age 18\n",
      "Not eligible\n"
     ]
    }
   ],
   "source": [
    "age = int(input(\"Enter your age \"))\n",
    "\n",
    "if age > 18:\n",
    "    print(f\"as {age} is greater so eligible\")\n",
    "else:\n",
    "    print(\"Not eligible\")"
   ]
  },
  {
   "cell_type": "code",
   "execution_count": 8,
   "id": "4129e665",
   "metadata": {},
   "outputs": [
    {
     "name": "stdout",
     "output_type": "stream",
     "text": [
      "Enter your age 18\n",
      "Eligible\n"
     ]
    }
   ],
   "source": [
    "age = int(input(\"Enter your age \"))\n",
    "\n",
    "if age > 18:\n",
    "    print(f\"as {age} is greater so eligible\")\n",
    "elif age == 18:\n",
    "    print(\"Eligible\")\n",
    "else:\n",
    "    print(\"Not eligible\")"
   ]
  },
  {
   "cell_type": "code",
   "execution_count": 9,
   "id": "d091b5da-993f-4db2-90de-01268538dff8",
   "metadata": {},
   "outputs": [
    {
     "data": {
      "text/plain": [
       "0"
      ]
     },
     "execution_count": 9,
     "metadata": {},
     "output_type": "execute_result"
    }
   ],
   "source": [
    "10 % 2 == 0"
   ]
  },
  {
   "cell_type": "code",
   "execution_count": 10,
   "id": "2610c49a-b3ca-4e09-8086-19f2d5ffe9cd",
   "metadata": {},
   "outputs": [
    {
     "data": {
      "text/plain": [
       "1"
      ]
     },
     "execution_count": 10,
     "metadata": {},
     "output_type": "execute_result"
    }
   ],
   "source": [
    "11 % 2"
   ]
  },
  {
   "cell_type": "code",
   "execution_count": 3,
   "id": "90a106a7",
   "metadata": {},
   "outputs": [
    {
     "name": "stdout",
     "output_type": "stream",
     "text": [
      "Enter a number 12\n",
      "12 is even\n"
     ]
    }
   ],
   "source": [
    "no = int(input(\"Enter a number \"))\n",
    "\n",
    "if (no % 2) == 0:\n",
    "    print(f\"{no} is even\")\n",
    "    \n",
    "else:\n",
    "    print(f\"{no} is odd\")"
   ]
  },
  {
   "cell_type": "code",
   "execution_count": 1,
   "id": "2e3846dc",
   "metadata": {},
   "outputs": [
    {
     "data": {
      "text/plain": [
       "1"
      ]
     },
     "execution_count": 1,
     "metadata": {},
     "output_type": "execute_result"
    }
   ],
   "source": [
    "3 % 2"
   ]
  },
  {
   "cell_type": "code",
   "execution_count": 4,
   "id": "14f23cb6",
   "metadata": {},
   "outputs": [
    {
     "data": {
      "text/plain": [
       "False"
      ]
     },
     "execution_count": 4,
     "metadata": {},
     "output_type": "execute_result"
    }
   ],
   "source": [
    "12 > 14"
   ]
  },
  {
   "cell_type": "code",
   "execution_count": 5,
   "id": "8b4f2b59",
   "metadata": {},
   "outputs": [
    {
     "name": "stdout",
     "output_type": "stream",
     "text": [
      "Enter a number 3\n",
      "Enter a number 7\n",
      "7 is max\n"
     ]
    }
   ],
   "source": [
    "a = int(input(\"Enter a number \"))\n",
    "b = int(input(\"Enter a number \"))\n",
    "\n",
    "if a > b:\n",
    "    print(f\"{a} is max\")\n",
    "    \n",
    "else:\n",
    "    print(f\"{b} is max\")"
   ]
  },
  {
   "cell_type": "code",
   "execution_count": null,
   "id": "b9e820e9",
   "metadata": {},
   "outputs": [],
   "source": [
    "if codition:\n",
    "    if condition:\n",
    "        # body\n",
    "        \n",
    "else:\n",
    "    # body"
   ]
  },
  {
   "cell_type": "code",
   "execution_count": null,
   "id": "d91992b9",
   "metadata": {},
   "outputs": [],
   "source": [
    "## Looping"
   ]
  },
  {
   "cell_type": "code",
   "execution_count": 6,
   "id": "9dbb817d",
   "metadata": {},
   "outputs": [
    {
     "name": "stdout",
     "output_type": "stream",
     "text": [
      "1\n",
      "2\n"
     ]
    }
   ],
   "source": [
    "print('1')\n",
    "print('2')"
   ]
  },
  {
   "cell_type": "code",
   "execution_count": null,
   "id": "61ef2312",
   "metadata": {},
   "outputs": [],
   "source": [
    "for i in iterable:\n",
    "    print(i)"
   ]
  },
  {
   "cell_type": "code",
   "execution_count": null,
   "id": "968b750d",
   "metadata": {},
   "outputs": [],
   "source": []
  },
  {
   "cell_type": "code",
   "execution_count": null,
   "id": "cef764b0",
   "metadata": {},
   "outputs": [],
   "source": [
    "range(start, end+1, step)\n",
    "\n",
    "range(6)  ---> end+1 = 6 = 5 + 1\n",
    "range(2,6) ---> 2 start 5+1 end\n",
    "range(2,7,2)  ----> 2 start 6+1 end 2 step"
   ]
  },
  {
   "cell_type": "code",
   "execution_count": 12,
   "id": "7d65a72a",
   "metadata": {},
   "outputs": [
    {
     "name": "stdout",
     "output_type": "stream",
     "text": [
      "0\n",
      "1\n",
      "2\n"
     ]
    }
   ],
   "source": [
    "for i in range(3):\n",
    "    print(i)"
   ]
  },
  {
   "cell_type": "code",
   "execution_count": 15,
   "id": "bcd606d8",
   "metadata": {},
   "outputs": [
    {
     "name": "stdout",
     "output_type": "stream",
     "text": [
      "2\n",
      "3\n",
      "4\n",
      "5\n",
      "6\n",
      "7\n",
      "8\n"
     ]
    }
   ],
   "source": [
    "for i in range(2,9,1):\n",
    "    print(i)"
   ]
  },
  {
   "cell_type": "code",
   "execution_count": 17,
   "id": "893f9c80-9a3c-434c-8a9d-ef2d68fe94c3",
   "metadata": {},
   "outputs": [
    {
     "name": "stdout",
     "output_type": "stream",
     "text": [
      "2\n",
      "5\n",
      "8\n"
     ]
    }
   ],
   "source": [
    "for i in range(2,9,3):\n",
    "    print(i)"
   ]
  },
  {
   "cell_type": "code",
   "execution_count": 23,
   "id": "9ec59c68",
   "metadata": {},
   "outputs": [
    {
     "name": "stdout",
     "output_type": "stream",
     "text": [
      "4\n",
      "5\n",
      "6\n",
      "7\n",
      "8\n",
      "9\n"
     ]
    }
   ],
   "source": [
    "for i in range(6):\n",
    "    print(i+4)"
   ]
  },
  {
   "cell_type": "code",
   "execution_count": 24,
   "id": "f74f38d9",
   "metadata": {},
   "outputs": [
    {
     "name": "stdout",
     "output_type": "stream",
     "text": [
      "0\n",
      "2\n"
     ]
    }
   ],
   "source": [
    "for i in range(4):\n",
    "    if i % 2 == 0:\n",
    "        print(i)"
   ]
  },
  {
   "cell_type": "code",
   "execution_count": null,
   "id": "4f15af18",
   "metadata": {},
   "outputs": [],
   "source": [
    "till 10 all the odd numbers"
   ]
  },
  {
   "cell_type": "code",
   "execution_count": null,
   "id": "25fbdab4",
   "metadata": {},
   "outputs": [],
   "source": [
    "a = int(input(\"Enter a number \"))\n",
    "b = int(input(\"Enter a number \"))\n",
    "if a > b:\n",
    "    print(f\"{a} is max\") \n",
    "else:\n",
    "    print(f\"{b} is max\")"
   ]
  },
  {
   "cell_type": "code",
   "execution_count": null,
   "id": "ccdffd12",
   "metadata": {},
   "outputs": [],
   "source": [
    "no = int(input(\"Enter a number \"))\n",
    "if (no % 2) == 0:\n",
    "    print(f\"{no} is even\")  \n",
    "else:\n",
    "    print(f\"{no} is odd\")"
   ]
  },
  {
   "cell_type": "code",
   "execution_count": null,
   "id": "310e5f49",
   "metadata": {},
   "outputs": [],
   "source": [
    "age = int(input(\"Enter your age \"))\n",
    "if age > 18:\n",
    "    print(f\"as {age} is greater so eligible\")\n",
    "elif age == 18:\n",
    "    print(\"Eligible\")\n",
    "else:\n",
    "    print(\"Not eligible\")"
   ]
  },
  {
   "cell_type": "code",
   "execution_count": null,
   "id": "9f4976d6",
   "metadata": {},
   "outputs": [],
   "source": [
    "for i in iterable:\n",
    "    print(i)"
   ]
  },
  {
   "cell_type": "code",
   "execution_count": null,
   "id": "6a17a655",
   "metadata": {},
   "outputs": [],
   "source": [
    "iterable --> range , list, string, set, dictionary"
   ]
  },
  {
   "cell_type": "code",
   "execution_count": 4,
   "id": "80c46b04",
   "metadata": {},
   "outputs": [],
   "source": [
    "a = \"Prana bhargavi\""
   ]
  },
  {
   "cell_type": "code",
   "execution_count": 5,
   "id": "bb76af99",
   "metadata": {},
   "outputs": [
    {
     "name": "stdout",
     "output_type": "stream",
     "text": [
      "P\n",
      "r\n",
      "a\n",
      "n\n",
      "a\n",
      " \n",
      "b\n",
      "h\n",
      "a\n",
      "r\n",
      "g\n",
      "a\n",
      "v\n",
      "i\n"
     ]
    }
   ],
   "source": [
    "for i in a:\n",
    "    print(i)"
   ]
  },
  {
   "cell_type": "code",
   "execution_count": 6,
   "id": "ecc79028",
   "metadata": {},
   "outputs": [
    {
     "name": "stdout",
     "output_type": "stream",
     "text": [
      "u\n",
      "d\n",
      "a\n",
      "y\n",
      "a\n"
     ]
    }
   ],
   "source": [
    "for i in \"udaya\":\n",
    "    print(i)"
   ]
  },
  {
   "cell_type": "code",
   "execution_count": 16,
   "id": "522e0525",
   "metadata": {},
   "outputs": [
    {
     "name": "stdout",
     "output_type": "stream",
     "text": [
      "u d a y a "
     ]
    }
   ],
   "source": [
    "for i in \"udaya\":\n",
    "    print(i, end=\" \")"
   ]
  },
  {
   "cell_type": "code",
   "execution_count": 11,
   "id": "a884ff9a",
   "metadata": {},
   "outputs": [
    {
     "name": "stdout",
     "output_type": "stream",
     "text": [
      "1 2 3 4 5 "
     ]
    }
   ],
   "source": [
    "for i in range(1,6):\n",
    "    print(i, end = \" \")"
   ]
  },
  {
   "cell_type": "code",
   "execution_count": null,
   "id": "36f9d580",
   "metadata": {},
   "outputs": [],
   "source": [
    "range(start,end,step)"
   ]
  },
  {
   "cell_type": "code",
   "execution_count": 12,
   "id": "73fb7233",
   "metadata": {},
   "outputs": [
    {
     "name": "stdout",
     "output_type": "stream",
     "text": [
      "0 1 2 3 4 5 "
     ]
    }
   ],
   "source": [
    "for i in range(6):\n",
    "    print(i, end = \" \")"
   ]
  },
  {
   "cell_type": "code",
   "execution_count": 17,
   "id": "f8218243",
   "metadata": {},
   "outputs": [
    {
     "name": "stdout",
     "output_type": "stream",
     "text": [
      "1\n",
      "2\n",
      "3\n",
      "udaya\n",
      "apana\n",
      "nayak\n"
     ]
    }
   ],
   "source": [
    "lst = [1,2,3,\"udaya\",\"apana\",\"nayak\"]\n",
    "\n",
    "for i in lst:\n",
    "    print(i)"
   ]
  },
  {
   "cell_type": "code",
   "execution_count": 18,
   "id": "a3b76792",
   "metadata": {},
   "outputs": [
    {
     "name": "stdout",
     "output_type": "stream",
     "text": [
      "1\n",
      "2\n",
      "3\n",
      "nayak\n",
      "apana\n",
      "udaya\n"
     ]
    }
   ],
   "source": [
    "st = {1,2,3,\"udaya\",\"apana\",\"nayak\"}\n",
    "\n",
    "for i in st:\n",
    "    print(i)"
   ]
  },
  {
   "cell_type": "code",
   "execution_count": 19,
   "id": "c02f2694",
   "metadata": {},
   "outputs": [
    {
     "name": "stdout",
     "output_type": "stream",
     "text": [
      "1\n",
      "2\n",
      "3\n",
      "udaya\n",
      "apana\n",
      "nayak\n"
     ]
    }
   ],
   "source": [
    "tup = (1,2,3,\"udaya\",\"apana\",\"nayak\")\n",
    "\n",
    "for i in lst:\n",
    "    print(i)"
   ]
  },
  {
   "cell_type": "markdown",
   "id": "6a0bfab3",
   "metadata": {},
   "source": [
    "## break"
   ]
  },
  {
   "cell_type": "code",
   "execution_count": 20,
   "id": "01644e8e",
   "metadata": {},
   "outputs": [
    {
     "name": "stdout",
     "output_type": "stream",
     "text": [
      "0\n",
      "1\n",
      "2\n",
      "3\n",
      "4\n",
      "5\n",
      "6\n"
     ]
    }
   ],
   "source": [
    "for i in range(7):\n",
    "    print(i)"
   ]
  },
  {
   "cell_type": "code",
   "execution_count": 23,
   "id": "abd76a23",
   "metadata": {},
   "outputs": [
    {
     "name": "stdout",
     "output_type": "stream",
     "text": [
      "0\n",
      "1\n",
      "2\n",
      "3\n"
     ]
    }
   ],
   "source": [
    "for i in range(7):\n",
    "    print(i)\n",
    "    if i == 3:\n",
    "        break"
   ]
  },
  {
   "cell_type": "markdown",
   "id": "51dab517",
   "metadata": {},
   "source": [
    "## continue"
   ]
  },
  {
   "cell_type": "code",
   "execution_count": 24,
   "id": "caf7539d",
   "metadata": {},
   "outputs": [
    {
     "name": "stdout",
     "output_type": "stream",
     "text": [
      "0\n",
      "1\n",
      "2\n",
      "3\n",
      "4\n",
      "5\n",
      "6\n"
     ]
    }
   ],
   "source": [
    "for i in range(7):\n",
    "    print(i)"
   ]
  },
  {
   "cell_type": "code",
   "execution_count": 25,
   "id": "28b16f14",
   "metadata": {},
   "outputs": [
    {
     "name": "stdout",
     "output_type": "stream",
     "text": [
      "0\n",
      "1\n",
      "2\n",
      "4\n",
      "5\n",
      "6\n"
     ]
    }
   ],
   "source": [
    "for i in range(7):\n",
    "    if i == 3:\n",
    "        continue\n",
    "    print(i)"
   ]
  },
  {
   "cell_type": "markdown",
   "id": "af1ff790",
   "metadata": {},
   "source": [
    "## pass"
   ]
  },
  {
   "cell_type": "code",
   "execution_count": 30,
   "id": "35f4ddcf",
   "metadata": {},
   "outputs": [],
   "source": [
    "if 2>3:\n",
    "    pass"
   ]
  },
  {
   "cell_type": "markdown",
   "id": "fcce9dea",
   "metadata": {},
   "source": [
    "## exit"
   ]
  },
  {
   "cell_type": "code",
   "execution_count": 31,
   "id": "f436b357",
   "metadata": {},
   "outputs": [],
   "source": [
    "exit()"
   ]
  },
  {
   "cell_type": "code",
   "execution_count": null,
   "id": "d73dc191",
   "metadata": {},
   "outputs": [],
   "source": []
  },
  {
   "cell_type": "code",
   "execution_count": null,
   "id": "2b411574",
   "metadata": {},
   "outputs": [],
   "source": []
  }
 ],
 "metadata": {
  "kernelspec": {
   "display_name": "Python 3 (ipykernel)",
   "language": "python",
   "name": "python3"
  },
  "language_info": {
   "codemirror_mode": {
    "name": "ipython",
    "version": 3
   },
   "file_extension": ".py",
   "mimetype": "text/x-python",
   "name": "python",
   "nbconvert_exporter": "python",
   "pygments_lexer": "ipython3",
   "version": "3.11.5"
  }
 },
 "nbformat": 4,
 "nbformat_minor": 5
}
