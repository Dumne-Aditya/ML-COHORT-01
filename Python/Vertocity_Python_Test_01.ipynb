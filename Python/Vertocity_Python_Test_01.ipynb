{
 "cells": [
  {
   "cell_type": "markdown",
   "id": "12c00f88",
   "metadata": {},
   "source": [
    "## 4-Mark Questions"
   ]
  },
  {
   "cell_type": "markdown",
   "id": "768128ec",
   "metadata": {},
   "source": [
    "**Q:** Explain the difference between a list and a tuple with an example."
   ]
  },
  {
   "cell_type": "markdown",
   "id": "1bc82282",
   "metadata": {},
   "source": [
    "**Q:** What are Python generators? Write a generator function to generate numbers."
   ]
  },
  {
   "cell_type": "markdown",
   "id": "9ef0be7d",
   "metadata": {},
   "source": [
    "**Q:** Explain lambda functions in Python with an example."
   ]
  },
  {
   "cell_type": "markdown",
   "id": "23c99a37",
   "metadata": {},
   "source": [
    "**Q:** What is the difference between filter(), map(), and reduce() functions? Provide examples."
   ]
  },
  {
   "cell_type": "markdown",
   "id": "84e691ba",
   "metadata": {},
   "source": [
    "**Q:** Describe the different types of Python errors with examples."
   ]
  },
  {
   "cell_type": "markdown",
   "id": "f32e482a",
   "metadata": {},
   "source": [
    "**Q:** What are Python sets? Explain set operations with examples."
   ]
  },
  {
   "cell_type": "markdown",
   "id": "17a3335a",
   "metadata": {},
   "source": [
    "**Q:** Explain Python iterators and how they differ from generators."
   ]
  },
  {
   "cell_type": "markdown",
   "id": "75464c9e",
   "metadata": {},
   "source": [
    "**Q:** Write a Python function to demonstrate error handling using try-except."
   ]
  },
  {
   "cell_type": "markdown",
   "id": "6e1dbf1e",
   "metadata": {},
   "source": [
    "**Q:** How do list comprehensions work? Write an example."
   ]
  },
  {
   "cell_type": "markdown",
   "id": "4c395ef0",
   "metadata": {},
   "source": [
    "**Q:** What is the purpose of operator in Python? Provide examples of all operators."
   ]
  },
  {
   "cell_type": "markdown",
   "id": "e0a0ddfb",
   "metadata": {},
   "source": [
    "## 2-Mark Questions"
   ]
  },
  {
   "cell_type": "markdown",
   "id": "bcaf65ea",
   "metadata": {},
   "source": [
    "**Q:** Write a lambda function to add two numbers."
   ]
  },
  {
   "cell_type": "markdown",
   "id": "eb09ba0c",
   "metadata": {},
   "source": [
    "**Q:** How do you convert a list into a set?"
   ]
  },
  {
   "cell_type": "markdown",
   "id": "a8b291a5",
   "metadata": {},
   "source": [
    "**Q:** Write a one-line Python code to check if 'apple' is in a list."
   ]
  },
  {
   "cell_type": "markdown",
   "id": "258aceef",
   "metadata": {},
   "source": [
    "**Q:** How do you remove duplicate elements from a list?"
   ]
  },
  {
   "cell_type": "markdown",
   "id": "5e18bad7",
   "metadata": {},
   "source": [
    "**Q:** What is the difference between append() and extend() in lists?"
   ]
  },
  {
   "cell_type": "markdown",
   "id": "f4fbdbfa",
   "metadata": {},
   "source": [
    "**Q:** What will be the output of print({1, 2, 3} & {2, 3, 4})?"
   ]
  },
  {
   "cell_type": "markdown",
   "id": "0d56d242",
   "metadata": {},
   "source": [
    "**Q:** How do you convert a tuple into a list?"
   ]
  },
  {
   "cell_type": "markdown",
   "id": "e7f02f34",
   "metadata": {},
   "source": [
    "**Q:** What is dictionary and give example of a Empty dict!"
   ]
  },
  {
   "cell_type": "markdown",
   "id": "c6d04b0d",
   "metadata": {},
   "source": [
    "**Q:** How do you sort a list in descending order?"
   ]
  },
  {
   "cell_type": "markdown",
   "id": "418f8e69",
   "metadata": {},
   "source": [
    "**Q:** How do you iterate over keys and values in a dictionary?"
   ]
  },
  {
   "cell_type": "markdown",
   "id": "413bcde8",
   "metadata": {},
   "source": [
    "**Q:** What is the purpose of the zip() function?"
   ]
  },
  {
   "cell_type": "markdown",
   "id": "1ac87f96",
   "metadata": {},
   "source": [
    "**Q:** How do you access the last element of a list?"
   ]
  },
  {
   "cell_type": "markdown",
   "id": "dabb3be3",
   "metadata": {},
   "source": [
    "**Q:** What will be the output of print(list(range(5)))?"
   ]
  },
  {
   "cell_type": "markdown",
   "id": "2dff4965",
   "metadata": {},
   "source": [
    "**Q:** Write an example of a try-except block handling a division by zero error."
   ]
  },
  {
   "cell_type": "markdown",
   "id": "5e6b4bee",
   "metadata": {},
   "source": [
    "**Q:** How do you create a dictionary with keys from a list and values as zero?"
   ]
  },
  {
   "cell_type": "markdown",
   "id": "e9ed67c4",
   "metadata": {},
   "source": [
    "**Q:** How do you check the data type of a variable?"
   ]
  },
  {
   "cell_type": "markdown",
   "id": "f139fe3a",
   "metadata": {},
   "source": [
    "**Q:** How do you merge two lists into a dictionary?"
   ]
  },
  {
   "cell_type": "markdown",
   "id": "96d6b14e",
   "metadata": {},
   "source": [
    "**Q:** What does the pop() method do in a dictionary?"
   ]
  },
  {
   "cell_type": "markdown",
   "id": "3a06c672",
   "metadata": {},
   "source": [
    "**Q:** How do you define a generator function?"
   ]
  },
  {
   "cell_type": "markdown",
   "id": "a83596f6",
   "metadata": {},
   "source": [
    "**Q:** What is the difference between == and is operators?"
   ]
  },
  {
   "cell_type": "markdown",
   "id": "b3dae842",
   "metadata": {},
   "source": [
    "## 1-Mark Questions"
   ]
  },
  {
   "cell_type": "markdown",
   "id": "adc1c37a",
   "metadata": {},
   "source": [
    "**Q:** What is the syntax for defining a lambda function?"
   ]
  },
  {
   "cell_type": "markdown",
   "id": "49453630",
   "metadata": {},
   "source": [
    "**Q:** What is the output of: print(type({}))?"
   ]
  },
  {
   "cell_type": "markdown",
   "id": "15693268",
   "metadata": {},
   "source": [
    "**Q:** How do you create an empty list in Python?"
   ]
  },
  {
   "cell_type": "markdown",
   "id": "743fbe41",
   "metadata": {},
   "source": [
    "**Q:** What does the map() function do?"
   ]
  },
  {
   "cell_type": "markdown",
   "id": "b76905ff",
   "metadata": {},
   "source": [
    "**Q:** What does the filter() function return?"
   ]
  },
  {
   "cell_type": "markdown",
   "id": "48be74bf",
   "metadata": {},
   "source": [
    "**Q:** How do you create a tuple with a single element?"
   ]
  },
  {
   "cell_type": "markdown",
   "id": "43ddc7b1",
   "metadata": {},
   "source": [
    "**Q:** What method is used to remove an item from a set?"
   ]
  },
  {
   "cell_type": "markdown",
   "id": "836c9bdd",
   "metadata": {},
   "source": [
    "**Q:** What does the 'yield' keyword do?"
   ]
  },
  {
   "cell_type": "markdown",
   "id": "6a978e5e",
   "metadata": {},
   "source": [
    "**Q:** What is the difference between a dictionary and a set?"
   ]
  },
  {
   "cell_type": "markdown",
   "id": "2f7c1c40",
   "metadata": {},
   "source": [
    "**Q:** What does the 'try' keyword do in error handling?"
   ]
  },
  {
   "cell_type": "markdown",
   "id": "d8c0511b",
   "metadata": {},
   "source": [
    "**Q:** How do you check if a key exists in a dictionary?"
   ]
  },
  {
   "cell_type": "markdown",
   "id": "46414c4e",
   "metadata": {},
   "source": [
    "**Q:** What is the default return type of map()?"
   ]
  },
  {
   "cell_type": "markdown",
   "id": "0d137e45",
   "metadata": {},
   "source": [
    "**Q:** What function is used to get the length of a list?"
   ]
  },
  {
   "cell_type": "markdown",
   "id": "115a72e3",
   "metadata": {},
   "source": [
    "**Q:** What will be the output of print(len((1,2,3)))?"
   ]
  },
  {
   "cell_type": "markdown",
   "id": "8ba1f185",
   "metadata": {},
   "source": [
    "**Q:** How do you access the first element of a list?"
   ]
  },
  {
   "cell_type": "markdown",
   "id": "8f5f130f",
   "metadata": {},
   "source": [
    "**Q:** What operator is used for exponentiation?"
   ]
  },
  {
   "cell_type": "markdown",
   "id": "045474b8",
   "metadata": {},
   "source": [
    "**Q:** What does reduce() function do?"
   ]
  },
  {
   "cell_type": "markdown",
   "id": "620a87e6",
   "metadata": {},
   "source": [
    "**Q:** How do you create an empty dictionary?"
   ]
  },
  {
   "cell_type": "markdown",
   "id": "7c4ee9dd",
   "metadata": {},
   "source": [
    "**Q:** What keyword is used to define a function in Python?"
   ]
  },
  {
   "cell_type": "markdown",
   "id": "6353a56c",
   "metadata": {},
   "source": [
    "**Q:** What is the output of: print(bool([]))?"
   ]
  }
 ],
 "metadata": {
  "kernelspec": {
   "display_name": "Python 3 (ipykernel)",
   "language": "python",
   "name": "python3"
  },
  "language_info": {
   "codemirror_mode": {
    "name": "ipython",
    "version": 3
   },
   "file_extension": ".py",
   "mimetype": "text/x-python",
   "name": "python",
   "nbconvert_exporter": "python",
   "pygments_lexer": "ipython3",
   "version": "3.11.5"
  }
 },
 "nbformat": 4,
 "nbformat_minor": 5
}
