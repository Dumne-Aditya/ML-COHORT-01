{
 "cells": [
  {
   "cell_type": "markdown",
   "id": "dd2ee702-afc5-4d8c-9940-69ed458b6ec4",
   "metadata": {},
   "source": [
    "# 🧠 Regression – Basic Notes\n",
    "\n",
    "## 📌 What is Regression?\n",
    "\n",
    "**Regression** is a supervised machine learning technique used to predict continuous numerical values based on input features (independent variables).\n",
    "\n",
    "**Example use cases:**\n",
    "- Predicting house prices\n",
    "- Forecasting stock values\n",
    "- Estimating salaries\n",
    "\n",
    "---\n",
    "\n",
    "## 🔧 Common Regression Models\n",
    "\n",
    "| Model                     | Description |\n",
    "|---------------------------|-------------|\n",
    "| **Linear Regression**      | Fits a straight line to minimize error. Best for linear relationships. |\n",
    "| **Ridge Regression**       | Linear model with L2 regularization to avoid overfitting. |\n",
    "| **Lasso Regression**       | Linear model with L1 regularization. Also performs feature selection. |\n",
    "| **SVR (Support Vector Regression)** | Tries to fit within a margin. Works well for non-linear data with tuning. |\n",
    "| **KNN Regression**         | Predicts value based on the average of nearby points. Good for local patterns. |\n",
    "| **Decision Tree Regressor** | Splits data into rules. Good for non-linear data, but can overfit. |\n",
    "\n",
    "---\n",
    "\n",
    "## 📥 Importing Models\n",
    "\n",
    "To use these models, you need to import them from `sklearn`:\n",
    "- `LinearRegression`\n",
    "- `Ridge`\n",
    "- `Lasso`\n",
    "- `SVR`\n",
    "- `KNeighborsRegressor`\n",
    "- `DecisionTreeRegressor`\n",
    "\n",
    "---\n",
    "\n",
    "## 🔁 Training, Testing, and Predicting\n",
    "\n",
    "1. **Training a model** involves fitting it to training data using known inputs and outputs.\n",
    "2. **Testing** involves predicting on a separate test set and comparing predictions to actual outcomes.\n",
    "3. **Prediction** is the process of using a trained model to estimate the output for new, unseen data.\n",
    "\n",
    "---\n",
    "\n",
    "## 📏 Evaluation Metrics for Regression\n",
    "\n",
    "### 1. **MAE (Mean Absolute Error)**\n",
    "\n",
    "- **Definition:** Measures the average magnitude of errors in predictions, without considering their direction.\n",
    "- **Best Case:** MAE close to 0, indicating predictions are on average very close to actual values.\n",
    "- **Worst Case:** High MAE, indicating large average error.\n",
    "- **Parameter:** Takes the true values (`y_true`) and predicted values (`y_pred`).\n",
    "\n",
    "---\n",
    "\n",
    "### 2. **MSE (Mean Squared Error)**\n",
    "\n",
    "- **Definition:** Measures the average of the squares of the errors. Larger errors have a disproportionately large effect due to the squaring.\n",
    "- **Best Case:** MSE close to 0, indicating predictions are accurate with small errors.\n",
    "- **Worst Case:** High MSE, indicating large errors.\n",
    "- **Parameter:** Takes the true values (`y_true`) and predicted values (`y_pred`).\n",
    "\n",
    "---\n",
    "\n",
    "### 3. **RMSE (Root Mean Squared Error)**\n",
    "\n",
    "- **Definition:** The square root of MSE. It gives a measure of the average magnitude of error in the same units as the target variable.\n",
    "- **Best Case:** RMSE close to 0, indicating that predictions are very close to actual values.\n",
    "- **Worst Case:** High RMSE, indicating significant deviations in predictions.\n",
    "- **Parameter:** Takes the true values (`y_true`) and predicted values (`y_pred`).\n",
    "\n",
    "---\n",
    "\n",
    "## 📌 Summary of Best and Worst Case Evaluations\n",
    "\n",
    "- **Best Case:** For **MAE**, **MSE**, and **RMSE**, the best case scenario is when the values are **close to 0**. This means the model has accurately predicted the target values with minimal error.\n",
    "  \n",
    "- **Worst Case:** A **high MAE**, **MSE**, or **RMSE** indicates poor model performance, with predictions significantly deviating from the actual values.\n",
    "\n",
    "---\n",
    "\n",
    "This covers the basics of regression, the common models, and how to evaluate them using popular metrics like **MAE**, **MSE**, and **RMSE**.\n"
   ]
  },
  {
   "cell_type": "markdown",
   "id": "9f2079ec-35d0-4b4a-8fcc-5ee9c806fa93",
   "metadata": {},
   "source": [
    "## Example Run on dummy data"
   ]
  },
  {
   "cell_type": "code",
   "execution_count": 1,
   "id": "e82ded6d-2c61-4080-bbce-3f220aeb0959",
   "metadata": {},
   "outputs": [],
   "source": [
    "from sklearn.metrics import mean_squared_error, mean_absolute_error\n",
    "import numpy as np\n",
    "import pandas as pd"
   ]
  },
  {
   "cell_type": "code",
   "execution_count": 2,
   "id": "2938b769-e901-4193-a605-fd1403244d8d",
   "metadata": {},
   "outputs": [
    {
     "data": {
      "text/plain": [
       "array([[-0.42064532,  0.40405086, -0.34271452, ..., -0.80227727,\n",
       "         0.17457781,  0.00511346],\n",
       "       [ 0.32707237, -0.2387526 , -0.58206133, ...,  0.39904414,\n",
       "        -0.05706129,  2.82422043],\n",
       "       [ 0.4559042 , -1.75182881, -0.45909031, ..., -0.69460037,\n",
       "         0.15805349,  1.32864083],\n",
       "       ...,\n",
       "       [ 1.16929559,  0.14671369,  1.38215899, ...,  0.64870989,\n",
       "        -0.81693567,  0.82048218],\n",
       "       [ 0.62563093, -0.53884186, -0.69677182, ...,  0.58202657,\n",
       "        -1.96262569,  0.84817421],\n",
       "       [ 0.02310435,  2.02681712, -0.97793884, ..., -0.61242289,\n",
       "        -0.8300705 ,  0.29216883]])"
      ]
     },
     "execution_count": 2,
     "metadata": {},
     "output_type": "execute_result"
    }
   ],
   "source": [
    "from sklearn.datasets import make_regression\n",
    "# Create synthetic data with 12 features\n",
    "X, y = make_regression(n_samples=1000, n_features=12, noise=10, random_state=42)\n",
    "X"
   ]
  },
  {
   "cell_type": "code",
   "execution_count": null,
   "id": "7ee96da4-b9f2-4fd3-9dd6-006167cc8d16",
   "metadata": {},
   "outputs": [],
   "source": []
  },
  {
   "cell_type": "markdown",
   "id": "d1fed46f-003a-489c-9068-efe8386c6706",
   "metadata": {},
   "source": [
    "### ========== train_test_split =========="
   ]
  },
  {
   "cell_type": "code",
   "execution_count": 3,
   "id": "c0a8245e-6830-4c10-a1a1-4fea25c28725",
   "metadata": {},
   "outputs": [],
   "source": [
    "from sklearn.model_selection import train_test_split\n",
    "X_train, X_test, y_train, y_test = train_test_split(X, y, test_size=0.2, random_state=42)"
   ]
  },
  {
   "cell_type": "markdown",
   "id": "bc408782-5859-4d3b-9067-b5059ebc6fe0",
   "metadata": {},
   "source": [
    "# ========== Linear Regression =========="
   ]
  },
  {
   "cell_type": "code",
   "execution_count": 4,
   "id": "55cd9c91-024d-43bc-bfa2-086017374e42",
   "metadata": {},
   "outputs": [
    {
     "name": "stdout",
     "output_type": "stream",
     "text": [
      "Linear Regression\n",
      "  MSE : 102.48\n",
      "  MAE : 8.14\n",
      "  RMSE: 10.12\n",
      "----------------------------------------\n"
     ]
    }
   ],
   "source": [
    "from sklearn.linear_model import LinearRegression\n",
    "lr_model = LinearRegression()\n",
    "lr_model.fit(X_train, y_train)\n",
    "lr_pred = lr_model.predict(X_test)\n",
    "\n",
    "lr_mse = mean_squared_error(y_test, lr_pred)\n",
    "lr_mae = mean_absolute_error(y_test, lr_pred)\n",
    "lr_rmse = np.sqrt(lr_mse)\n",
    "\n",
    "print(\"Linear Regression\")\n",
    "print(f\"  MSE : {lr_mse:.2f}\")\n",
    "print(f\"  MAE : {lr_mae:.2f}\")\n",
    "print(f\"  RMSE: {lr_rmse:.2f}\")\n",
    "print(\"-\" * 40)"
   ]
  },
  {
   "cell_type": "markdown",
   "id": "bb2ba10d-2114-4135-a8e1-b27d24510521",
   "metadata": {},
   "source": [
    "# ========== Ridge Regression =========="
   ]
  },
  {
   "cell_type": "code",
   "execution_count": 5,
   "id": "8844fa63-b9eb-41f9-95fb-7d9ff610cc17",
   "metadata": {},
   "outputs": [
    {
     "name": "stdout",
     "output_type": "stream",
     "text": [
      "Ridge Regression\n",
      "  MSE : 102.20\n",
      "  MAE : 8.12\n",
      "  RMSE: 10.11\n",
      "----------------------------------------\n"
     ]
    }
   ],
   "source": [
    "from sklearn.linear_model import Ridge\n",
    "ridge_model = Ridge(alpha=1.0)\n",
    "ridge_model.fit(X_train, y_train)\n",
    "ridge_pred = ridge_model.predict(X_test)\n",
    "\n",
    "ridge_mse = mean_squared_error(y_test, ridge_pred)\n",
    "ridge_mae = mean_absolute_error(y_test, ridge_pred)\n",
    "ridge_rmse = np.sqrt(ridge_mse)\n",
    "\n",
    "print(\"Ridge Regression\")\n",
    "print(f\"  MSE : {ridge_mse:.2f}\")\n",
    "print(f\"  MAE : {ridge_mae:.2f}\")\n",
    "print(f\"  RMSE: {ridge_rmse:.2f}\")\n",
    "print(\"-\" * 40)"
   ]
  },
  {
   "cell_type": "markdown",
   "id": "15c68bde-9776-4655-8852-427c3a979226",
   "metadata": {},
   "source": [
    "# ========== Lasso Regression =========="
   ]
  },
  {
   "cell_type": "code",
   "execution_count": 6,
   "id": "7840c45c-efba-4379-81d1-eccff98eca00",
   "metadata": {},
   "outputs": [
    {
     "name": "stdout",
     "output_type": "stream",
     "text": [
      "Lasso Regression\n",
      "  MSE : 102.41\n",
      "  MAE : 8.14\n",
      "  RMSE: 10.12\n",
      "----------------------------------------\n"
     ]
    }
   ],
   "source": [
    "from sklearn.linear_model import Lasso\n",
    "\n",
    "lasso_model = Lasso(alpha=0.1)\n",
    "lasso_model.fit(X_train, y_train)\n",
    "lasso_pred = lasso_model.predict(X_test)\n",
    "\n",
    "lasso_mse = mean_squared_error(y_test, lasso_pred)\n",
    "lasso_mae = mean_absolute_error(y_test, lasso_pred)\n",
    "lasso_rmse = np.sqrt(lasso_mse)\n",
    "\n",
    "print(\"Lasso Regression\")\n",
    "print(f\"  MSE : {lasso_mse:.2f}\")\n",
    "print(f\"  MAE : {lasso_mae:.2f}\")\n",
    "print(f\"  RMSE: {lasso_rmse:.2f}\")\n",
    "print(\"-\" * 40)"
   ]
  },
  {
   "cell_type": "markdown",
   "id": "b0264f21-7278-4d24-847c-fb9a93740c50",
   "metadata": {},
   "source": [
    "# ========== Support Vector Regression =========="
   ]
  },
  {
   "cell_type": "code",
   "execution_count": 7,
   "id": "1cc22acc-0733-4732-aa65-567c4e9e93bf",
   "metadata": {},
   "outputs": [
    {
     "name": "stdout",
     "output_type": "stream",
     "text": [
      "Support Vector Regression (SVR)\n",
      "  MSE : 28369.17\n",
      "  MAE : 135.41\n",
      "  RMSE: 168.43\n",
      "----------------------------------------\n"
     ]
    }
   ],
   "source": [
    "from sklearn.svm import SVR\n",
    "svr_model = SVR()\n",
    "svr_model.fit(X_train, y_train)\n",
    "svr_pred = svr_model.predict(X_test)\n",
    "\n",
    "svr_mse = mean_squared_error(y_test, svr_pred)\n",
    "svr_mae = mean_absolute_error(y_test, svr_pred)\n",
    "svr_rmse = np.sqrt(svr_mse)\n",
    "\n",
    "print(\"Support Vector Regression (SVR)\")\n",
    "print(f\"  MSE : {svr_mse:.2f}\")\n",
    "print(f\"  MAE : {svr_mae:.2f}\")\n",
    "print(f\"  RMSE: {svr_rmse:.2f}\")\n",
    "print(\"-\" * 40)"
   ]
  },
  {
   "cell_type": "markdown",
   "id": "44eb2b8f-3df8-4f81-8a42-03550c22f32d",
   "metadata": {},
   "source": [
    "# ========== Decision Tree Regression =========="
   ]
  },
  {
   "cell_type": "code",
   "execution_count": 8,
   "id": "0aeeb85f-4557-4c2c-b2ee-9dd6a96e56fc",
   "metadata": {},
   "outputs": [
    {
     "name": "stdout",
     "output_type": "stream",
     "text": [
      "Decision Tree Regression\n",
      "  MSE : 17404.23\n",
      "  MAE : 102.77\n",
      "  RMSE: 131.93\n",
      "----------------------------------------\n"
     ]
    }
   ],
   "source": [
    "from sklearn.tree import DecisionTreeRegressor\n",
    "dt_model = DecisionTreeRegressor(random_state=42)\n",
    "dt_model.fit(X_train, y_train)\n",
    "dt_pred = dt_model.predict(X_test)\n",
    "\n",
    "dt_mse = mean_squared_error(y_test, dt_pred)\n",
    "dt_mae = mean_absolute_error(y_test, dt_pred)\n",
    "dt_rmse = np.sqrt(dt_mse)\n",
    "\n",
    "print(\"Decision Tree Regression\")\n",
    "print(f\"  MSE : {dt_mse:.2f}\")\n",
    "print(f\"  MAE : {dt_mae:.2f}\")\n",
    "print(f\"  RMSE: {dt_rmse:.2f}\")\n",
    "print(\"-\" * 40)"
   ]
  },
  {
   "cell_type": "markdown",
   "id": "72d71bfb-e957-425a-adbb-9c414432135e",
   "metadata": {},
   "source": [
    "# ========== K-Nearest Neighbors Regression =========="
   ]
  },
  {
   "cell_type": "code",
   "execution_count": 9,
   "id": "f5153967-bfe8-43aa-8a35-cc7b3fa2877a",
   "metadata": {},
   "outputs": [
    {
     "name": "stdout",
     "output_type": "stream",
     "text": [
      "K-Nearest Neighbors Regression\n",
      "  MSE : 7936.17\n",
      "  MAE : 70.97\n",
      "  RMSE: 89.09\n",
      "----------------------------------------\n"
     ]
    }
   ],
   "source": [
    "from sklearn.neighbors import KNeighborsRegressor\n",
    "knn_model = KNeighborsRegressor(n_neighbors=5)\n",
    "knn_model.fit(X_train, y_train)\n",
    "knn_pred = knn_model.predict(X_test)\n",
    "\n",
    "knn_mse = mean_squared_error(y_test, knn_pred)\n",
    "knn_mae = mean_absolute_error(y_test, knn_pred)\n",
    "knn_rmse = np.sqrt(knn_mse)\n",
    "\n",
    "print(\"K-Nearest Neighbors Regression\")\n",
    "print(f\"  MSE : {knn_mse:.2f}\")\n",
    "print(f\"  MAE : {knn_mae:.2f}\")\n",
    "print(f\"  RMSE: {knn_rmse:.2f}\")\n",
    "print(\"-\" * 40)"
   ]
  }
 ],
 "metadata": {
  "kernelspec": {
   "display_name": "Python 3 (ipykernel)",
   "language": "python",
   "name": "python3"
  },
  "language_info": {
   "codemirror_mode": {
    "name": "ipython",
    "version": 3
   },
   "file_extension": ".py",
   "mimetype": "text/x-python",
   "name": "python",
   "nbconvert_exporter": "python",
   "pygments_lexer": "ipython3",
   "version": "3.12.7"
  }
 },
 "nbformat": 4,
 "nbformat_minor": 5
}
