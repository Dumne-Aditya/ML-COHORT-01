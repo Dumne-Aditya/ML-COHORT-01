{
 "cells": [
  {
   "cell_type": "code",
   "execution_count": 2,
   "id": "ccfe7e38-a0b1-4199-bac5-732159f15db2",
   "metadata": {},
   "outputs": [],
   "source": [
    "import warnings\n",
    "\n",
    "# Ignore all warnings\n",
    "warnings.filterwarnings(\"ignore\")\n"
   ]
  },
  {
   "cell_type": "code",
   "execution_count": 3,
   "id": "2c7a8c27-f289-4be0-9f9b-413ee96da98d",
   "metadata": {},
   "outputs": [
    {
     "data": {
      "text/plain": [
       "array([[ -9.00045423,  10.01793583,   4.73753592, ...,  -0.15855051,\n",
       "         -2.16747656,  -4.09972226],\n",
       "       [ -1.66855407,   8.36166215,   4.1936954 , ...,   8.08393757,\n",
       "          2.80810039,   4.58690912],\n",
       "       [-10.15814304,   9.72770578,   5.13167912, ...,   1.75227785,\n",
       "         -1.89643471,  -3.81696358],\n",
       "       ...,\n",
       "       [ -3.49492367,   9.51833264,   4.10962122, ...,   6.12564502,\n",
       "          3.98702537,   4.19671511],\n",
       "       [  1.57641033,  -5.71781494,  -8.18945458, ...,  -8.02533507,\n",
       "          2.75006664,  -1.11936474],\n",
       "       [ -1.42614638,  10.06808818,   3.26220947, ...,  11.17625441,\n",
       "          2.59319075,   5.2970172 ]])"
      ]
     },
     "execution_count": 3,
     "metadata": {},
     "output_type": "execute_result"
    }
   ],
   "source": [
    "import numpy as np\n",
    "import pandas as pd\n",
    "\n",
    "from sklearn.datasets import make_blobs\n",
    "X, _ = make_blobs(n_samples=1000, centers=4, n_features=10, random_state=42)\n",
    "X"
   ]
  },
  {
   "cell_type": "markdown",
   "id": "4a017061-a98e-4923-896b-dee665e604b1",
   "metadata": {},
   "source": [
    "## Standardize the data (important for PCA and some clustering algorithms)"
   ]
  },
  {
   "cell_type": "code",
   "execution_count": 5,
   "id": "d83da71a-7616-4703-a45a-b1d679516ca9",
   "metadata": {},
   "outputs": [
    {
     "data": {
      "text/plain": [
       "array([[-1.43799539,  1.09624239,  0.80653375, ..., -0.03861019,\n",
       "        -1.77942242, -0.31561534],\n",
       "       [ 0.05770845,  0.89237746,  0.72070476, ...,  1.44475233,\n",
       "         0.59515544,  1.4400295 ],\n",
       "       [-1.67416331,  1.06051899,  0.86873749, ...,  0.30527277,\n",
       "        -1.65006859, -0.25846732],\n",
       "       ...,\n",
       "       [-0.31487   ,  1.03474799,  0.70743616, ...,  1.09232747,\n",
       "         1.15779353,  1.36116784],\n",
       "       [ 0.71967951, -0.84061614, -1.23360585, ..., -1.45435909,\n",
       "         0.56745901,  0.28674121],\n",
       "       [ 0.10715949,  1.10241547,  0.57369751, ...,  2.00126232,\n",
       "         0.49259051,  1.5835486 ]])"
      ]
     },
     "execution_count": 5,
     "metadata": {},
     "output_type": "execute_result"
    }
   ],
   "source": [
    "from sklearn.preprocessing import StandardScaler\n",
    "scaler = StandardScaler()\n",
    "X_scaled = scaler.fit_transform(X)\n",
    "X_scaled"
   ]
  },
  {
   "cell_type": "markdown",
   "id": "f71b0472-2364-4a3a-a6dc-b761616d5fa0",
   "metadata": {},
   "source": [
    "## Evalution"
   ]
  },
  {
   "cell_type": "code",
   "execution_count": 4,
   "id": "9a35c182-8067-4951-9b41-fe09822d5509",
   "metadata": {},
   "outputs": [],
   "source": [
    "from sklearn.metrics import silhouette_score"
   ]
  },
  {
   "cell_type": "markdown",
   "id": "59b956f9-75b8-4b36-aba1-4ed424e1d8c8",
   "metadata": {},
   "source": [
    "# ========== K-Means Clustering ==========\n"
   ]
  },
  {
   "cell_type": "code",
   "execution_count": 5,
   "id": "8b66e07d-818a-4f89-808e-178ff9c9326b",
   "metadata": {},
   "outputs": [
    {
     "name": "stdout",
     "output_type": "stream",
     "text": [
      "K-Means Clustering\n",
      "  Silhouette Score: 0.73\n",
      "----------------------------------------\n"
     ]
    }
   ],
   "source": [
    "from sklearn.cluster import KMeans\n",
    "\n",
    "kmeans_model = KMeans(n_clusters=4, random_state=42)\n",
    "kmeans_model.fit(X_scaled)\n",
    "kmeans_pred = kmeans_model.predict(X_scaled)\n",
    "\n",
    "from sklearn.metrics import silhouette_score\n",
    "kmeans_silhouette = silhouette_score(X_scaled, kmeans_pred)\n",
    "\n",
    "print(\"K-Means Clustering\")\n",
    "print(f\"  Silhouette Score: {kmeans_silhouette:.2f}\")\n",
    "print(\"-\" * 40)"
   ]
  },
  {
   "cell_type": "markdown",
   "id": "7ff9b6c6-fc39-4a2b-9969-0876e07f0227",
   "metadata": {},
   "source": [
    "# ========== DBSCAN ==========\n"
   ]
  },
  {
   "cell_type": "code",
   "execution_count": 7,
   "id": "ecdb9ea0-c96a-44cd-889e-db91ebfc3d12",
   "metadata": {},
   "outputs": [
    {
     "name": "stdout",
     "output_type": "stream",
     "text": [
      "DBSCAN Clustering\n",
      "  Silhouette Score: 0.07\n",
      "----------------------------------------\n"
     ]
    }
   ],
   "source": [
    "from sklearn.cluster import DBSCAN\n",
    "\n",
    "dbscan_model = DBSCAN(eps=0.5, min_samples=5)\n",
    "dbscan_pred = dbscan_model.fit_predict(X_scaled)\n",
    "\n",
    "from sklearn.metrics import silhouette_score\n",
    "dbscan_silhouette = silhouette_score(X_scaled, dbscan_pred)\n",
    "\n",
    "print(\"DBSCAN Clustering\")\n",
    "print(f\"  Silhouette Score: {dbscan_silhouette:.2f}\")\n",
    "print(\"-\" * 40)\n"
   ]
  },
  {
   "cell_type": "markdown",
   "id": "f2085ec4-8291-4f72-9323-d62a993960b8",
   "metadata": {},
   "source": [
    "# ========== Agglomerative Clustering =========="
   ]
  },
  {
   "cell_type": "code",
   "execution_count": 6,
   "id": "04620178-e8e6-4a40-9b57-bed4205ab18d",
   "metadata": {},
   "outputs": [
    {
     "name": "stdout",
     "output_type": "stream",
     "text": [
      "Agglomerative Clustering\n",
      "  Silhouette Score: 0.73\n"
     ]
    }
   ],
   "source": [
    "\n",
    "from sklearn.cluster import AgglomerativeClustering\n",
    "\n",
    "agg_model = AgglomerativeClustering(n_clusters=4)\n",
    "agg_pred = agg_model.fit_predict(X_scaled)\n",
    "\n",
    "from sklearn.metrics import silhouette_score\n",
    "agg_silhouette = silhouette_score(X_scaled, agg_pred)\n",
    "\n",
    "print(\"Agglomerative Clustering\")\n",
    "print(f\"  Silhouette Score: {agg_silhouette:.2f}\")"
   ]
  },
  {
   "cell_type": "markdown",
   "id": "ed881155-3475-4baa-93bc-1f15a676ebbc",
   "metadata": {},
   "source": [
    "# ========== Principal Component Analysis (PCA) ==========\n"
   ]
  },
  {
   "cell_type": "code",
   "execution_count": 8,
   "id": "dee5cd2c-3001-4622-993b-dc111580f9bb",
   "metadata": {},
   "outputs": [
    {
     "name": "stdout",
     "output_type": "stream",
     "text": [
      "Principal Component Analysis (PCA)\n",
      "  Explained Variance Ratio: [0.61044647 0.22112436]\n"
     ]
    }
   ],
   "source": [
    "from sklearn.decomposition import PCA\n",
    "\n",
    "pca_model = PCA(n_components=2)\n",
    "X_pca = pca_model.fit_transform(X_scaled)\n",
    "\n",
    "print(\"Principal Component Analysis (PCA)\")\n",
    "print(f\"  Explained Variance Ratio: {pca_model.explained_variance_ratio_}\")\n"
   ]
  },
  {
   "cell_type": "code",
   "execution_count": null,
   "id": "fa438296-f2ef-42e2-8f78-5d3e1813364d",
   "metadata": {},
   "outputs": [],
   "source": []
  },
  {
   "cell_type": "code",
   "execution_count": null,
   "id": "2d2e17d4-2b7b-45bf-8388-d3444e908d72",
   "metadata": {},
   "outputs": [],
   "source": []
  }
 ],
 "metadata": {
  "kernelspec": {
   "display_name": "Python 3 (ipykernel)",
   "language": "python",
   "name": "python3"
  },
  "language_info": {
   "codemirror_mode": {
    "name": "ipython",
    "version": 3
   },
   "file_extension": ".py",
   "mimetype": "text/x-python",
   "name": "python",
   "nbconvert_exporter": "python",
   "pygments_lexer": "ipython3",
   "version": "3.11.5"
  }
 },
 "nbformat": 4,
 "nbformat_minor": 5
}
